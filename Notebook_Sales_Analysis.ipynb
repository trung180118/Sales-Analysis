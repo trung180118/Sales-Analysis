{
 "cells": [
  {
   "attachments": {},
   "cell_type": "markdown",
   "metadata": {},
   "source": [
    "# Sales Analysis\n",
    "\n",
    "## 1. Import necessary Libraries and read the files\n"
   ]
  },
  {
   "cell_type": "code",
   "execution_count": 22,
   "metadata": {},
   "outputs": [],
   "source": [
    "import pandas as pd\n",
    "import os\n",
    "import matplotlib.pyplot as plt\n",
    "from itertools import combinations\n",
    "from collections import Counter"
   ]
  },
  {
   "attachments": {},
   "cell_type": "markdown",
   "metadata": {},
   "source": [
    "### Merging 12 Months of sales datas into a single CSV file"
   ]
  },
  {
   "cell_type": "code",
   "execution_count": 2,
   "metadata": {},
   "outputs": [],
   "source": [
    "files = [file for file in os.listdir('/Users/trungbui0177/Desktop/Data-Analyst/SalesAnalysis/Sales_Data')]\n",
    "\n",
    "all_months_data = pd.DataFrame()\n",
    "\n",
    "for file in files:\n",
    "    df = pd.read_csv('/Users/trungbui0177/Desktop/Data-Analyst/SalesAnalysis/Sales_Data/'+file)\n",
    "    all_months_data = pd.concat([all_months_data, df])\n",
    "\n",
    "all_months_data.to_csv('all_data.csv', index=False)"
   ]
  },
  {
   "attachments": {},
   "cell_type": "markdown",
   "metadata": {},
   "source": [
    "### Read in updated dataframe"
   ]
  },
  {
   "cell_type": "code",
   "execution_count": 5,
   "metadata": {},
   "outputs": [
    {
     "data": {
      "text/html": [
       "<div>\n",
       "<style scoped>\n",
       "    .dataframe tbody tr th:only-of-type {\n",
       "        vertical-align: middle;\n",
       "    }\n",
       "\n",
       "    .dataframe tbody tr th {\n",
       "        vertical-align: top;\n",
       "    }\n",
       "\n",
       "    .dataframe thead th {\n",
       "        text-align: right;\n",
       "    }\n",
       "</style>\n",
       "<table border=\"1\" class=\"dataframe\">\n",
       "  <thead>\n",
       "    <tr style=\"text-align: right;\">\n",
       "      <th></th>\n",
       "      <th>Order ID</th>\n",
       "      <th>Product</th>\n",
       "      <th>Quantity Ordered</th>\n",
       "      <th>Price Each</th>\n",
       "      <th>Order Date</th>\n",
       "      <th>Purchase Address</th>\n",
       "    </tr>\n",
       "  </thead>\n",
       "  <tbody>\n",
       "    <tr>\n",
       "      <th>0</th>\n",
       "      <td>295665</td>\n",
       "      <td>Macbook Pro Laptop</td>\n",
       "      <td>1</td>\n",
       "      <td>1700</td>\n",
       "      <td>12/30/19 00:01</td>\n",
       "      <td>136 Church St, New York City, NY 10001</td>\n",
       "    </tr>\n",
       "    <tr>\n",
       "      <th>1</th>\n",
       "      <td>295666</td>\n",
       "      <td>LG Washing Machine</td>\n",
       "      <td>1</td>\n",
       "      <td>600.0</td>\n",
       "      <td>12/29/19 07:03</td>\n",
       "      <td>562 2nd St, New York City, NY 10001</td>\n",
       "    </tr>\n",
       "    <tr>\n",
       "      <th>2</th>\n",
       "      <td>295667</td>\n",
       "      <td>USB-C Charging Cable</td>\n",
       "      <td>1</td>\n",
       "      <td>11.95</td>\n",
       "      <td>12/12/19 18:21</td>\n",
       "      <td>277 Main St, New York City, NY 10001</td>\n",
       "    </tr>\n",
       "    <tr>\n",
       "      <th>3</th>\n",
       "      <td>295668</td>\n",
       "      <td>27in FHD Monitor</td>\n",
       "      <td>1</td>\n",
       "      <td>149.99</td>\n",
       "      <td>12/22/19 15:13</td>\n",
       "      <td>410 6th St, San Francisco, CA 94016</td>\n",
       "    </tr>\n",
       "    <tr>\n",
       "      <th>4</th>\n",
       "      <td>295669</td>\n",
       "      <td>USB-C Charging Cable</td>\n",
       "      <td>1</td>\n",
       "      <td>11.95</td>\n",
       "      <td>12/18/19 12:38</td>\n",
       "      <td>43 Hill St, Atlanta, GA 30301</td>\n",
       "    </tr>\n",
       "  </tbody>\n",
       "</table>\n",
       "</div>"
      ],
      "text/plain": [
       "  Order ID               Product Quantity Ordered Price Each      Order Date  \\\n",
       "0   295665    Macbook Pro Laptop                1       1700  12/30/19 00:01   \n",
       "1   295666    LG Washing Machine                1      600.0  12/29/19 07:03   \n",
       "2   295667  USB-C Charging Cable                1      11.95  12/12/19 18:21   \n",
       "3   295668      27in FHD Monitor                1     149.99  12/22/19 15:13   \n",
       "4   295669  USB-C Charging Cable                1      11.95  12/18/19 12:38   \n",
       "\n",
       "                         Purchase Address  \n",
       "0  136 Church St, New York City, NY 10001  \n",
       "1     562 2nd St, New York City, NY 10001  \n",
       "2    277 Main St, New York City, NY 10001  \n",
       "3     410 6th St, San Francisco, CA 94016  \n",
       "4           43 Hill St, Atlanta, GA 30301  "
      ]
     },
     "execution_count": 5,
     "metadata": {},
     "output_type": "execute_result"
    }
   ],
   "source": [
    "all_data = pd.read_csv(\"all_data.csv\")\n",
    "all_data.head()"
   ]
  },
  {
   "attachments": {},
   "cell_type": "markdown",
   "metadata": {},
   "source": [
    "## 2. Clean up data"
   ]
  },
  {
   "attachments": {},
   "cell_type": "markdown",
   "metadata": {},
   "source": [
    "### Drop rows of NAN"
   ]
  },
  {
   "cell_type": "code",
   "execution_count": 40,
   "metadata": {},
   "outputs": [],
   "source": [
    "nan_df = all_data[all_data.isna().any(axis=1)]\n",
    "all_data = all_data.dropna(how='all')"
   ]
  },
  {
   "attachments": {},
   "cell_type": "markdown",
   "metadata": {},
   "source": [
    "### Find '0r' and delete it"
   ]
  },
  {
   "cell_type": "code",
   "execution_count": 7,
   "metadata": {},
   "outputs": [],
   "source": [
    "all_data = all_data[all_data['Order Date'].str[0:2] != 'Or']"
   ]
  },
  {
   "attachments": {},
   "cell_type": "markdown",
   "metadata": {},
   "source": [
    "### Convert columns to the correct typs"
   ]
  },
  {
   "cell_type": "code",
   "execution_count": 39,
   "metadata": {},
   "outputs": [],
   "source": [
    "all_data['Quantity Ordered'] = pd.to_numeric(all_data['Quantity Ordered']) \n",
    "all_data['Price Each'] = pd.to_numeric(all_data['Price Each']) "
   ]
  },
  {
   "attachments": {},
   "cell_type": "markdown",
   "metadata": {},
   "source": [
    "## 3. Augment data with additional columns"
   ]
  },
  {
   "attachments": {},
   "cell_type": "markdown",
   "metadata": {},
   "source": [
    "### Add 'Month' columns -> Question 1"
   ]
  },
  {
   "cell_type": "code",
   "execution_count": 10,
   "metadata": {},
   "outputs": [
    {
     "data": {
      "text/html": [
       "<div>\n",
       "<style scoped>\n",
       "    .dataframe tbody tr th:only-of-type {\n",
       "        vertical-align: middle;\n",
       "    }\n",
       "\n",
       "    .dataframe tbody tr th {\n",
       "        vertical-align: top;\n",
       "    }\n",
       "\n",
       "    .dataframe thead th {\n",
       "        text-align: right;\n",
       "    }\n",
       "</style>\n",
       "<table border=\"1\" class=\"dataframe\">\n",
       "  <thead>\n",
       "    <tr style=\"text-align: right;\">\n",
       "      <th></th>\n",
       "      <th>Order ID</th>\n",
       "      <th>Product</th>\n",
       "      <th>Quantity Ordered</th>\n",
       "      <th>Price Each</th>\n",
       "      <th>Order Date</th>\n",
       "      <th>Purchase Address</th>\n",
       "      <th>Month</th>\n",
       "    </tr>\n",
       "  </thead>\n",
       "  <tbody>\n",
       "    <tr>\n",
       "      <th>0</th>\n",
       "      <td>295665</td>\n",
       "      <td>Macbook Pro Laptop</td>\n",
       "      <td>1</td>\n",
       "      <td>1700.00</td>\n",
       "      <td>12/30/19 00:01</td>\n",
       "      <td>136 Church St, New York City, NY 10001</td>\n",
       "      <td>12</td>\n",
       "    </tr>\n",
       "    <tr>\n",
       "      <th>1</th>\n",
       "      <td>295666</td>\n",
       "      <td>LG Washing Machine</td>\n",
       "      <td>1</td>\n",
       "      <td>600.00</td>\n",
       "      <td>12/29/19 07:03</td>\n",
       "      <td>562 2nd St, New York City, NY 10001</td>\n",
       "      <td>12</td>\n",
       "    </tr>\n",
       "    <tr>\n",
       "      <th>2</th>\n",
       "      <td>295667</td>\n",
       "      <td>USB-C Charging Cable</td>\n",
       "      <td>1</td>\n",
       "      <td>11.95</td>\n",
       "      <td>12/12/19 18:21</td>\n",
       "      <td>277 Main St, New York City, NY 10001</td>\n",
       "      <td>12</td>\n",
       "    </tr>\n",
       "    <tr>\n",
       "      <th>3</th>\n",
       "      <td>295668</td>\n",
       "      <td>27in FHD Monitor</td>\n",
       "      <td>1</td>\n",
       "      <td>149.99</td>\n",
       "      <td>12/22/19 15:13</td>\n",
       "      <td>410 6th St, San Francisco, CA 94016</td>\n",
       "      <td>12</td>\n",
       "    </tr>\n",
       "    <tr>\n",
       "      <th>4</th>\n",
       "      <td>295669</td>\n",
       "      <td>USB-C Charging Cable</td>\n",
       "      <td>1</td>\n",
       "      <td>11.95</td>\n",
       "      <td>12/18/19 12:38</td>\n",
       "      <td>43 Hill St, Atlanta, GA 30301</td>\n",
       "      <td>12</td>\n",
       "    </tr>\n",
       "  </tbody>\n",
       "</table>\n",
       "</div>"
      ],
      "text/plain": [
       "  Order ID               Product  Quantity Ordered  Price Each  \\\n",
       "0   295665    Macbook Pro Laptop                 1     1700.00   \n",
       "1   295666    LG Washing Machine                 1      600.00   \n",
       "2   295667  USB-C Charging Cable                 1       11.95   \n",
       "3   295668      27in FHD Monitor                 1      149.99   \n",
       "4   295669  USB-C Charging Cable                 1       11.95   \n",
       "\n",
       "       Order Date                        Purchase Address  Month  \n",
       "0  12/30/19 00:01  136 Church St, New York City, NY 10001     12  \n",
       "1  12/29/19 07:03     562 2nd St, New York City, NY 10001     12  \n",
       "2  12/12/19 18:21    277 Main St, New York City, NY 10001     12  \n",
       "3  12/22/19 15:13     410 6th St, San Francisco, CA 94016     12  \n",
       "4  12/18/19 12:38           43 Hill St, Atlanta, GA 30301     12  "
      ]
     },
     "execution_count": 10,
     "metadata": {},
     "output_type": "execute_result"
    }
   ],
   "source": [
    "all_data['Month'] = all_data['Order Date'].str[0:2] \n",
    "all_data['Month'] = all_data['Month'].astype('int32')\n",
    "all_data.head()"
   ]
  },
  {
   "attachments": {},
   "cell_type": "markdown",
   "metadata": {},
   "source": [
    "### Add 'Sales' column -> Question 1"
   ]
  },
  {
   "cell_type": "code",
   "execution_count": 11,
   "metadata": {},
   "outputs": [
    {
     "data": {
      "text/html": [
       "<div>\n",
       "<style scoped>\n",
       "    .dataframe tbody tr th:only-of-type {\n",
       "        vertical-align: middle;\n",
       "    }\n",
       "\n",
       "    .dataframe tbody tr th {\n",
       "        vertical-align: top;\n",
       "    }\n",
       "\n",
       "    .dataframe thead th {\n",
       "        text-align: right;\n",
       "    }\n",
       "</style>\n",
       "<table border=\"1\" class=\"dataframe\">\n",
       "  <thead>\n",
       "    <tr style=\"text-align: right;\">\n",
       "      <th></th>\n",
       "      <th>Order ID</th>\n",
       "      <th>Product</th>\n",
       "      <th>Quantity Ordered</th>\n",
       "      <th>Price Each</th>\n",
       "      <th>Order Date</th>\n",
       "      <th>Purchase Address</th>\n",
       "      <th>Month</th>\n",
       "      <th>Sales</th>\n",
       "    </tr>\n",
       "  </thead>\n",
       "  <tbody>\n",
       "    <tr>\n",
       "      <th>0</th>\n",
       "      <td>295665</td>\n",
       "      <td>Macbook Pro Laptop</td>\n",
       "      <td>1</td>\n",
       "      <td>1700.00</td>\n",
       "      <td>12/30/19 00:01</td>\n",
       "      <td>136 Church St, New York City, NY 10001</td>\n",
       "      <td>12</td>\n",
       "      <td>1700.00</td>\n",
       "    </tr>\n",
       "    <tr>\n",
       "      <th>1</th>\n",
       "      <td>295666</td>\n",
       "      <td>LG Washing Machine</td>\n",
       "      <td>1</td>\n",
       "      <td>600.00</td>\n",
       "      <td>12/29/19 07:03</td>\n",
       "      <td>562 2nd St, New York City, NY 10001</td>\n",
       "      <td>12</td>\n",
       "      <td>600.00</td>\n",
       "    </tr>\n",
       "    <tr>\n",
       "      <th>2</th>\n",
       "      <td>295667</td>\n",
       "      <td>USB-C Charging Cable</td>\n",
       "      <td>1</td>\n",
       "      <td>11.95</td>\n",
       "      <td>12/12/19 18:21</td>\n",
       "      <td>277 Main St, New York City, NY 10001</td>\n",
       "      <td>12</td>\n",
       "      <td>11.95</td>\n",
       "    </tr>\n",
       "    <tr>\n",
       "      <th>3</th>\n",
       "      <td>295668</td>\n",
       "      <td>27in FHD Monitor</td>\n",
       "      <td>1</td>\n",
       "      <td>149.99</td>\n",
       "      <td>12/22/19 15:13</td>\n",
       "      <td>410 6th St, San Francisco, CA 94016</td>\n",
       "      <td>12</td>\n",
       "      <td>149.99</td>\n",
       "    </tr>\n",
       "    <tr>\n",
       "      <th>4</th>\n",
       "      <td>295669</td>\n",
       "      <td>USB-C Charging Cable</td>\n",
       "      <td>1</td>\n",
       "      <td>11.95</td>\n",
       "      <td>12/18/19 12:38</td>\n",
       "      <td>43 Hill St, Atlanta, GA 30301</td>\n",
       "      <td>12</td>\n",
       "      <td>11.95</td>\n",
       "    </tr>\n",
       "  </tbody>\n",
       "</table>\n",
       "</div>"
      ],
      "text/plain": [
       "  Order ID               Product  Quantity Ordered  Price Each  \\\n",
       "0   295665    Macbook Pro Laptop                 1     1700.00   \n",
       "1   295666    LG Washing Machine                 1      600.00   \n",
       "2   295667  USB-C Charging Cable                 1       11.95   \n",
       "3   295668      27in FHD Monitor                 1      149.99   \n",
       "4   295669  USB-C Charging Cable                 1       11.95   \n",
       "\n",
       "       Order Date                        Purchase Address  Month    Sales  \n",
       "0  12/30/19 00:01  136 Church St, New York City, NY 10001     12  1700.00  \n",
       "1  12/29/19 07:03     562 2nd St, New York City, NY 10001     12   600.00  \n",
       "2  12/12/19 18:21    277 Main St, New York City, NY 10001     12    11.95  \n",
       "3  12/22/19 15:13     410 6th St, San Francisco, CA 94016     12   149.99  \n",
       "4  12/18/19 12:38           43 Hill St, Atlanta, GA 30301     12    11.95  "
      ]
     },
     "execution_count": 11,
     "metadata": {},
     "output_type": "execute_result"
    }
   ],
   "source": [
    "all_data['Sales'] = all_data['Quantity Ordered'] * all_data['Price Each']\n",
    "all_data.head()"
   ]
  },
  {
   "attachments": {},
   "cell_type": "markdown",
   "metadata": {},
   "source": [
    "### Add 'City' column -> Question 2"
   ]
  },
  {
   "cell_type": "code",
   "execution_count": 12,
   "metadata": {},
   "outputs": [
    {
     "data": {
      "text/html": [
       "<div>\n",
       "<style scoped>\n",
       "    .dataframe tbody tr th:only-of-type {\n",
       "        vertical-align: middle;\n",
       "    }\n",
       "\n",
       "    .dataframe tbody tr th {\n",
       "        vertical-align: top;\n",
       "    }\n",
       "\n",
       "    .dataframe thead th {\n",
       "        text-align: right;\n",
       "    }\n",
       "</style>\n",
       "<table border=\"1\" class=\"dataframe\">\n",
       "  <thead>\n",
       "    <tr style=\"text-align: right;\">\n",
       "      <th></th>\n",
       "      <th>Order ID</th>\n",
       "      <th>Product</th>\n",
       "      <th>Quantity Ordered</th>\n",
       "      <th>Price Each</th>\n",
       "      <th>Order Date</th>\n",
       "      <th>Purchase Address</th>\n",
       "      <th>Month</th>\n",
       "      <th>Sales</th>\n",
       "      <th>City</th>\n",
       "    </tr>\n",
       "  </thead>\n",
       "  <tbody>\n",
       "    <tr>\n",
       "      <th>0</th>\n",
       "      <td>295665</td>\n",
       "      <td>Macbook Pro Laptop</td>\n",
       "      <td>1</td>\n",
       "      <td>1700.00</td>\n",
       "      <td>12/30/19 00:01</td>\n",
       "      <td>136 Church St, New York City, NY 10001</td>\n",
       "      <td>12</td>\n",
       "      <td>1700.00</td>\n",
       "      <td>New York City (NY)</td>\n",
       "    </tr>\n",
       "    <tr>\n",
       "      <th>1</th>\n",
       "      <td>295666</td>\n",
       "      <td>LG Washing Machine</td>\n",
       "      <td>1</td>\n",
       "      <td>600.00</td>\n",
       "      <td>12/29/19 07:03</td>\n",
       "      <td>562 2nd St, New York City, NY 10001</td>\n",
       "      <td>12</td>\n",
       "      <td>600.00</td>\n",
       "      <td>New York City (NY)</td>\n",
       "    </tr>\n",
       "    <tr>\n",
       "      <th>2</th>\n",
       "      <td>295667</td>\n",
       "      <td>USB-C Charging Cable</td>\n",
       "      <td>1</td>\n",
       "      <td>11.95</td>\n",
       "      <td>12/12/19 18:21</td>\n",
       "      <td>277 Main St, New York City, NY 10001</td>\n",
       "      <td>12</td>\n",
       "      <td>11.95</td>\n",
       "      <td>New York City (NY)</td>\n",
       "    </tr>\n",
       "    <tr>\n",
       "      <th>3</th>\n",
       "      <td>295668</td>\n",
       "      <td>27in FHD Monitor</td>\n",
       "      <td>1</td>\n",
       "      <td>149.99</td>\n",
       "      <td>12/22/19 15:13</td>\n",
       "      <td>410 6th St, San Francisco, CA 94016</td>\n",
       "      <td>12</td>\n",
       "      <td>149.99</td>\n",
       "      <td>San Francisco (CA)</td>\n",
       "    </tr>\n",
       "    <tr>\n",
       "      <th>4</th>\n",
       "      <td>295669</td>\n",
       "      <td>USB-C Charging Cable</td>\n",
       "      <td>1</td>\n",
       "      <td>11.95</td>\n",
       "      <td>12/18/19 12:38</td>\n",
       "      <td>43 Hill St, Atlanta, GA 30301</td>\n",
       "      <td>12</td>\n",
       "      <td>11.95</td>\n",
       "      <td>Atlanta (GA)</td>\n",
       "    </tr>\n",
       "  </tbody>\n",
       "</table>\n",
       "</div>"
      ],
      "text/plain": [
       "  Order ID               Product  Quantity Ordered  Price Each  \\\n",
       "0   295665    Macbook Pro Laptop                 1     1700.00   \n",
       "1   295666    LG Washing Machine                 1      600.00   \n",
       "2   295667  USB-C Charging Cable                 1       11.95   \n",
       "3   295668      27in FHD Monitor                 1      149.99   \n",
       "4   295669  USB-C Charging Cable                 1       11.95   \n",
       "\n",
       "       Order Date                        Purchase Address  Month    Sales  \\\n",
       "0  12/30/19 00:01  136 Church St, New York City, NY 10001     12  1700.00   \n",
       "1  12/29/19 07:03     562 2nd St, New York City, NY 10001     12   600.00   \n",
       "2  12/12/19 18:21    277 Main St, New York City, NY 10001     12    11.95   \n",
       "3  12/22/19 15:13     410 6th St, San Francisco, CA 94016     12   149.99   \n",
       "4  12/18/19 12:38           43 Hill St, Atlanta, GA 30301     12    11.95   \n",
       "\n",
       "                  City  \n",
       "0   New York City (NY)  \n",
       "1   New York City (NY)  \n",
       "2   New York City (NY)  \n",
       "3   San Francisco (CA)  \n",
       "4         Atlanta (GA)  "
      ]
     },
     "execution_count": 12,
     "metadata": {},
     "output_type": "execute_result"
    }
   ],
   "source": [
    "def get_city(adress):\n",
    "    return adress.split(',')[1]\n",
    "\n",
    "def get_state(adress):\n",
    "    return adress.split(',')[2].split(' ')[1]\n",
    "\n",
    "all_data['City'] = all_data['Purchase Address'].apply(lambda x: f\"{get_city(x)} ({get_state(x)})\")\n",
    "all_data.head()"
   ]
  },
  {
   "attachments": {},
   "cell_type": "markdown",
   "metadata": {},
   "source": [
    "### Add 'Hour' cloumn -> Question 3"
   ]
  },
  {
   "cell_type": "code",
   "execution_count": 14,
   "metadata": {},
   "outputs": [
    {
     "data": {
      "text/html": [
       "<div>\n",
       "<style scoped>\n",
       "    .dataframe tbody tr th:only-of-type {\n",
       "        vertical-align: middle;\n",
       "    }\n",
       "\n",
       "    .dataframe tbody tr th {\n",
       "        vertical-align: top;\n",
       "    }\n",
       "\n",
       "    .dataframe thead th {\n",
       "        text-align: right;\n",
       "    }\n",
       "</style>\n",
       "<table border=\"1\" class=\"dataframe\">\n",
       "  <thead>\n",
       "    <tr style=\"text-align: right;\">\n",
       "      <th></th>\n",
       "      <th>Order ID</th>\n",
       "      <th>Product</th>\n",
       "      <th>Quantity Ordered</th>\n",
       "      <th>Price Each</th>\n",
       "      <th>Order Date</th>\n",
       "      <th>Purchase Address</th>\n",
       "      <th>Month</th>\n",
       "      <th>Sales</th>\n",
       "      <th>City</th>\n",
       "      <th>Hour</th>\n",
       "    </tr>\n",
       "  </thead>\n",
       "  <tbody>\n",
       "    <tr>\n",
       "      <th>0</th>\n",
       "      <td>295665</td>\n",
       "      <td>Macbook Pro Laptop</td>\n",
       "      <td>1</td>\n",
       "      <td>1700.00</td>\n",
       "      <td>2019-12-30 00:01:00</td>\n",
       "      <td>136 Church St, New York City, NY 10001</td>\n",
       "      <td>12</td>\n",
       "      <td>1700.00</td>\n",
       "      <td>New York City (NY)</td>\n",
       "      <td>0</td>\n",
       "    </tr>\n",
       "    <tr>\n",
       "      <th>1</th>\n",
       "      <td>295666</td>\n",
       "      <td>LG Washing Machine</td>\n",
       "      <td>1</td>\n",
       "      <td>600.00</td>\n",
       "      <td>2019-12-29 07:03:00</td>\n",
       "      <td>562 2nd St, New York City, NY 10001</td>\n",
       "      <td>12</td>\n",
       "      <td>600.00</td>\n",
       "      <td>New York City (NY)</td>\n",
       "      <td>7</td>\n",
       "    </tr>\n",
       "    <tr>\n",
       "      <th>2</th>\n",
       "      <td>295667</td>\n",
       "      <td>USB-C Charging Cable</td>\n",
       "      <td>1</td>\n",
       "      <td>11.95</td>\n",
       "      <td>2019-12-12 18:21:00</td>\n",
       "      <td>277 Main St, New York City, NY 10001</td>\n",
       "      <td>12</td>\n",
       "      <td>11.95</td>\n",
       "      <td>New York City (NY)</td>\n",
       "      <td>18</td>\n",
       "    </tr>\n",
       "    <tr>\n",
       "      <th>3</th>\n",
       "      <td>295668</td>\n",
       "      <td>27in FHD Monitor</td>\n",
       "      <td>1</td>\n",
       "      <td>149.99</td>\n",
       "      <td>2019-12-22 15:13:00</td>\n",
       "      <td>410 6th St, San Francisco, CA 94016</td>\n",
       "      <td>12</td>\n",
       "      <td>149.99</td>\n",
       "      <td>San Francisco (CA)</td>\n",
       "      <td>15</td>\n",
       "    </tr>\n",
       "    <tr>\n",
       "      <th>4</th>\n",
       "      <td>295669</td>\n",
       "      <td>USB-C Charging Cable</td>\n",
       "      <td>1</td>\n",
       "      <td>11.95</td>\n",
       "      <td>2019-12-18 12:38:00</td>\n",
       "      <td>43 Hill St, Atlanta, GA 30301</td>\n",
       "      <td>12</td>\n",
       "      <td>11.95</td>\n",
       "      <td>Atlanta (GA)</td>\n",
       "      <td>12</td>\n",
       "    </tr>\n",
       "  </tbody>\n",
       "</table>\n",
       "</div>"
      ],
      "text/plain": [
       "  Order ID               Product  Quantity Ordered  Price Each  \\\n",
       "0   295665    Macbook Pro Laptop                 1     1700.00   \n",
       "1   295666    LG Washing Machine                 1      600.00   \n",
       "2   295667  USB-C Charging Cable                 1       11.95   \n",
       "3   295668      27in FHD Monitor                 1      149.99   \n",
       "4   295669  USB-C Charging Cable                 1       11.95   \n",
       "\n",
       "           Order Date                        Purchase Address  Month    Sales  \\\n",
       "0 2019-12-30 00:01:00  136 Church St, New York City, NY 10001     12  1700.00   \n",
       "1 2019-12-29 07:03:00     562 2nd St, New York City, NY 10001     12   600.00   \n",
       "2 2019-12-12 18:21:00    277 Main St, New York City, NY 10001     12    11.95   \n",
       "3 2019-12-22 15:13:00     410 6th St, San Francisco, CA 94016     12   149.99   \n",
       "4 2019-12-18 12:38:00           43 Hill St, Atlanta, GA 30301     12    11.95   \n",
       "\n",
       "                  City  Hour  \n",
       "0   New York City (NY)     0  \n",
       "1   New York City (NY)     7  \n",
       "2   New York City (NY)    18  \n",
       "3   San Francisco (CA)    15  \n",
       "4         Atlanta (GA)    12  "
      ]
     },
     "execution_count": 14,
     "metadata": {},
     "output_type": "execute_result"
    }
   ],
   "source": [
    "all_data['Order Date'] = pd.to_datetime(all_data['Order Date'])\n",
    "all_data['Hour'] = all_data['Order Date'].dt.hour\n",
    "all_data.head()"
   ]
  },
  {
   "attachments": {},
   "cell_type": "markdown",
   "metadata": {},
   "source": [
    "## 3. Business Questions"
   ]
  },
  {
   "attachments": {},
   "cell_type": "markdown",
   "metadata": {},
   "source": [
    "### QUESTION 1: What was the best month for sales? How much was earned that month?"
   ]
  },
  {
     "data": {
      "text/html": [
       "<div>\n",
       "<style scoped>\n",
       "    .dataframe tbody tr th:only-of-type {\n",
       "        vertical-align: middle;\n",
       "    }\n",
       "\n",
       "    .dataframe tbody tr th {\n",
       "        vertical-align: top;\n",
       "    }\n",
       "\n",
       "    .dataframe thead th {\n",
       "        text-align: right;\n",
       "    }\n",
       "</style>\n",
       "<table border=\"1\" class=\"dataframe\">\n",
       "  <thead>\n",
       "    <tr style=\"text-align: right;\">\n",
       "      <th></th>\n",
       "      <th>Quantity Ordered</th>\n",
       "      <th>Price Each</th>\n",
       "      <th>Sales</th>\n",
       "      <th>Hour</th>\n",
       "    </tr>\n",
       "    <tr>\n",
       "      <th>Month</th>\n",
       "      <th></th>\n",
       "      <th></th>\n",
       "      <th></th>\n",
       "      <th></th>\n",
       "    </tr>\n",
       "  </thead>\n",
       "  <tbody>\n",
       "    <tr>\n",
       "      <th>1</th>\n",
       "      <td>10903</td>\n",
       "      <td>1811768.38</td>\n",
       "      <td>1822256.73</td>\n",
       "      <td>139485</td>\n",
       "    </tr>\n",
       "    <tr>\n",
       "      <th>2</th>\n",
       "      <td>13449</td>\n",
       "      <td>2188884.72</td>\n",
       "      <td>2202022.42</td>\n",
       "      <td>172669</td>\n",
       "    </tr>\n",
       "    <tr>\n",
       "      <th>3</th>\n",
       "      <td>17005</td>\n",
       "      <td>2791207.83</td>\n",
       "      <td>2807100.38</td>\n",
       "      <td>218969</td>\n",
       "    </tr>\n",
       "    <tr>\n",
       "      <th>4</th>\n",
       "      <td>20558</td>\n",
       "      <td>3367671.02</td>\n",
       "      <td>3390670.24</td>\n",
       "      <td>262259</td>\n",
       "    </tr>\n",
       "    <tr>\n",
       "      <th>5</th>\n",
       "      <td>18667</td>\n",
       "      <td>3135125.13</td>\n",
       "      <td>3152606.75</td>\n",
       "      <td>238780</td>\n",
       "    </tr>\n",
       "    <tr>\n",
       "      <th>6</th>\n",
       "      <td>15253</td>\n",
       "      <td>2562025.61</td>\n",
       "      <td>2577802.26</td>\n",
       "      <td>195528</td>\n",
       "    </tr>\n",
       "    <tr>\n",
       "      <th>7</th>\n",
       "      <td>16072</td>\n",
       "      <td>2632539.56</td>\n",
       "      <td>2647775.76</td>\n",
       "      <td>206169</td>\n",
       "    </tr>\n",
       "    <tr>\n",
       "      <th>8</th>\n",
       "      <td>13448</td>\n",
       "      <td>2230345.42</td>\n",
       "      <td>2244467.88</td>\n",
       "      <td>172289</td>\n",
       "    </tr>\n",
       "    <tr>\n",
       "      <th>9</th>\n",
       "      <td>13109</td>\n",
       "      <td>2084992.09</td>\n",
       "      <td>2097560.13</td>\n",
       "      <td>168513</td>\n",
       "    </tr>\n",
       "    <tr>\n",
       "      <th>10</th>\n",
       "      <td>22703</td>\n",
       "      <td>3715554.83</td>\n",
       "      <td>3736726.88</td>\n",
       "      <td>290650</td>\n",
       "    </tr>\n",
       "    <tr>\n",
       "      <th>11</th>\n",
       "      <td>19798</td>\n",
       "      <td>3180600.68</td>\n",
       "      <td>3199603.20</td>\n",
       "      <td>254865</td>\n",
       "    </tr>\n",
       "    <tr>\n",
       "      <th>12</th>\n",
       "      <td>28114</td>\n",
       "      <td>4588415.41</td>\n",
       "      <td>4613443.34</td>\n",
       "      <td>359978</td>\n",
       "    </tr>\n",
       "  </tbody>\n",
       "</table>\n",
       "</div>"
      ],
      "text/plain": [
       "       Quantity Ordered  Price Each       Sales    Hour\n",
       "Month                                                  \n",
       "1                 10903  1811768.38  1822256.73  139485\n",
       "2                 13449  2188884.72  2202022.42  172669\n",
       "3                 17005  2791207.83  2807100.38  218969\n",
       "4                 20558  3367671.02  3390670.24  262259\n",
       "5                 18667  3135125.13  3152606.75  238780\n",
       "6                 15253  2562025.61  2577802.26  195528\n",
       "7                 16072  2632539.56  2647775.76  206169\n",
       "8                 13448  2230345.42  2244467.88  172289\n",
       "9                 13109  2084992.09  2097560.13  168513\n",
       "10                22703  3715554.83  3736726.88  290650\n",
       "11                19798  3180600.68  3199603.20  254865\n",
       "12                28114  4588415.41  4613443.34  359978"
      ]
     },
     "execution_count": 15,
     "metadata": {},
     "output_type": "execute_result"
    }
   ],
   "source": [
    "sum_month = all_data.groupby('Month').sum()\n",
    "sum_month.head(12)"
   ]
  },
  {
   "cell_type": "code",
   "execution_count": 17,
   "metadata": {},
   "outputs": [
    {
     "data": {
      "text/plain": [
       "Text(0.5, 0, 'Month Number')"
      ]
     },
     "execution_count": 17,
     "metadata": {},
     "output_type": "execute_result"
    },
    {
     "data": {
      "image/png": "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",
      "text/plain": [
       "<Figure size 640x480 with 1 Axes>"
      ]
     },
     "metadata": {},
     "output_type": "display_data"
    }
   ],
   "source": [
    "months = range(1,13) \n",
    "\n",
    "plt.bar(months, sum_month['Sales']) \n",
    "plt.xticks(months)\n",
    "plt.ylabel('Sales in USD ($)') \n",
    "plt.xlabel('Month Number')"
   ]
  },
  {
   "attachments": {},
   "cell_type": "markdown",
   "metadata": {},
   "source": [
    "### QUESTION 2: What city had the best number of sales?"
   ]
  },
  {
   "cell_type": "code",
   "execution_count": 19,
   "metadata": {},
   "outputs": [
    {
     "name": "stderr",
     "output_type": "stream",
     "text": [
      "/var/folders/dn/y4djltt91x1c5czyr65_5v140000gn/T/ipykernel_55826/3457167676.py:1: FutureWarning: The default value of numeric_only in DataFrameGroupBy.sum is deprecated. In a future version, numeric_only will default to False. Either specify numeric_only or select only columns which should be valid for the function.\n",
      "  results_2 = all_data.groupby('City').sum()\n"
     ]
    },
    {
     "data": {
      "text/html": [
       "<div>\n",
       "<style scoped>\n",
       "    .dataframe tbody tr th:only-of-type {\n",
       "        vertical-align: middle;\n",
       "    }\n",
       "\n",
       "    .dataframe tbody tr th {\n",
       "        vertical-align: top;\n",
       "    }\n",
       "\n",
       "    .dataframe thead th {\n",
       "        text-align: right;\n",
       "    }\n",
       "</style>\n",
       "<table border=\"1\" class=\"dataframe\">\n",
       "  <thead>\n",
       "    <tr style=\"text-align: right;\">\n",
       "      <th></th>\n",
       "      <th>Quantity Ordered</th>\n",
       "      <th>Price Each</th>\n",
       "      <th>Month</th>\n",
       "      <th>Sales</th>\n",
       "      <th>Hour</th>\n",
       "    </tr>\n",
       "    <tr>\n",
       "      <th>City</th>\n",
       "      <th></th>\n",
       "      <th></th>\n",
       "      <th></th>\n",
       "      <th></th>\n",
       "      <th></th>\n",
       "    </tr>\n",
       "  </thead>\n",
       "  <tbody>\n",
       "    <tr>\n",
       "      <th>Atlanta (GA)</th>\n",
       "      <td>16602</td>\n",
       "      <td>2779908.20</td>\n",
       "      <td>104794</td>\n",
       "      <td>2795498.58</td>\n",
       "      <td>214264</td>\n",
       "    </tr>\n",
       "    <tr>\n",
       "      <th>Austin (TX)</th>\n",
       "      <td>11153</td>\n",
       "      <td>1809873.61</td>\n",
       "      <td>69829</td>\n",
       "      <td>1819581.75</td>\n",
       "      <td>141946</td>\n",
       "    </tr>\n",
       "    <tr>\n",
       "      <th>Boston (MA)</th>\n",
       "      <td>22528</td>\n",
       "      <td>3637409.77</td>\n",
       "      <td>141112</td>\n",
       "      <td>3661642.01</td>\n",
       "      <td>288225</td>\n",
       "    </tr>\n",
       "    <tr>\n",
       "      <th>Dallas (TX)</th>\n",
       "      <td>16730</td>\n",
       "      <td>2752627.82</td>\n",
       "      <td>104620</td>\n",
       "      <td>2767975.40</td>\n",
       "      <td>214390</td>\n",
       "    </tr>\n",
       "    <tr>\n",
       "      <th>Los Angeles (CA)</th>\n",
       "      <td>33289</td>\n",
       "      <td>5421435.23</td>\n",
       "      <td>208325</td>\n",
       "      <td>5452570.80</td>\n",
       "      <td>427444</td>\n",
       "    </tr>\n",
       "    <tr>\n",
       "      <th>New York City (NY)</th>\n",
       "      <td>27932</td>\n",
       "      <td>4635370.83</td>\n",
       "      <td>175741</td>\n",
       "      <td>4664317.43</td>\n",
       "      <td>357696</td>\n",
       "    </tr>\n",
       "    <tr>\n",
       "      <th>Portland (ME)</th>\n",
       "      <td>2750</td>\n",
       "      <td>447189.25</td>\n",
       "      <td>17144</td>\n",
       "      <td>449758.27</td>\n",
       "      <td>35211</td>\n",
       "    </tr>\n",
       "    <tr>\n",
       "      <th>Portland (OR)</th>\n",
       "      <td>11303</td>\n",
       "      <td>1860558.22</td>\n",
       "      <td>70621</td>\n",
       "      <td>1870732.34</td>\n",
       "      <td>144421</td>\n",
       "    </tr>\n",
       "    <tr>\n",
       "      <th>San Francisco (CA)</th>\n",
       "      <td>50239</td>\n",
       "      <td>8211461.74</td>\n",
       "      <td>315520</td>\n",
       "      <td>8262203.91</td>\n",
       "      <td>643265</td>\n",
       "    </tr>\n",
       "    <tr>\n",
       "      <th>Seattle (WA)</th>\n",
       "      <td>16553</td>\n",
       "      <td>2733296.01</td>\n",
       "      <td>104941</td>\n",
       "      <td>2747755.48</td>\n",
       "      <td>213292</td>\n",
       "    </tr>\n",
       "  </tbody>\n",
       "</table>\n",
       "</div>"
      ],
      "text/plain": [
       "                     Quantity Ordered  Price Each   Month       Sales    Hour\n",
       "City                                                                         \n",
       " Atlanta (GA)                   16602  2779908.20  104794  2795498.58  214264\n",
       " Austin (TX)                    11153  1809873.61   69829  1819581.75  141946\n",
       " Boston (MA)                    22528  3637409.77  141112  3661642.01  288225\n",
       " Dallas (TX)                    16730  2752627.82  104620  2767975.40  214390\n",
       " Los Angeles (CA)               33289  5421435.23  208325  5452570.80  427444\n",
       " New York City (NY)             27932  4635370.83  175741  4664317.43  357696\n",
       " Portland (ME)                   2750   447189.25   17144   449758.27   35211\n",
       " Portland (OR)                  11303  1860558.22   70621  1870732.34  144421\n",
       " San Francisco (CA)             50239  8211461.74  315520  8262203.91  643265\n",
       " Seattle (WA)                   16553  2733296.01  104941  2747755.48  213292"
      ]
     },
     "execution_count": 19,
     "metadata": {},
     "output_type": "execute_result"
    }
   ],
   "source": [
    "sum_city = all_data.groupby('City').sum()\n",
    "sum_city.head(20)"
   ]
  },
  {
   "cell_type": "code",
   "execution_count": 20,
   "metadata": {},
   "outputs": [
    {
     "data": {
      "image/png": "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",
      "text/plain": [
       "<Figure size 640x480 with 1 Axes>"
      ]
     },
     "metadata": {},
     "output_type": "display_data"
    }
   ],
   "source": [
    "cities = [city for city, df in all_data.groupby('City')] \n",
    "\n",
    "plt.bar(cities, sum_city[\"Sales\"]) \n",
    "plt.xticks(cities, rotation='vertical', size=8) \n",
    "plt.ylabel('Sales in USD ($)') \n",
    "plt.xlabel('City Name')\n",
    "\n",
    "plt.show()"
   ]
  },
  {
   "attachments": {},
   "cell_type": "markdown",
   "metadata": {},
   "source": [
    "### QUESTION 3: What time should we display advertisements to maximize likelihood of customer's buying product?"
   ]
  },
  {
   "cell_type": "code",
   "execution_count": 21,
   "metadata": {},
   "outputs": [
    {
     "data": {
      "image/png": "iVBORw0KGgoAAAANSUhEUgAAAk0AAAGwCAYAAAC0HlECAAAAOXRFWHRTb2Z0d2FyZQBNYXRwbG90bGliIHZlcnNpb24zLjcuMCwgaHR0cHM6Ly9tYXRwbG90bGliLm9yZy88F64QAAAACXBIWXMAAA9hAAAPYQGoP6dpAAB3KklEQVR4nO3de1xT9f8H8NeAsY3b5CKXKSje8Ib3UtTKUlHzmqUWSt6y+nnFW2VlYRcr81baTTM1L1/LFEstBK0sw7tSoqSmKF5AVJDbxja28/tjuiRQNhicMV7Px4OHcvbZe68hB96ey+cjEQRBABERERHdl5PYAYiIiIhqAjZNRERERBZg00RERERkATZNRERERBZg00RERERkATZNRERERBZg00RERERkARexAzgSo9GIq1evwtPTExKJROw4REREZAFBEJCfnw+VSgUnp3sfT2LTZENXr15FcHCw2DGIiIioAi5duoT69evf83E2TTbk6ekJwPRF9/LyslldvV6PhIQEREZGQiqV2lU9e85m63rMZh/1mM0+6jGbfdSz52y2rmfrbHfLy8tDcHCw+ff4vbBpsqE7p+S8vLxs3jS5ubnBy8vLZt/Etqpnz9lsXY/Z7KMes9lHPWazj3r2nM3W9WydrSzlXVrDC8GJiIiILMCmiYiIiMgCbJqIiIiILMCmiYiIiMgCbJqIiIiILMCmiYiIiMgCbJqIiIiILMCmiYiIiMgCbJqIiIiILMCmiYiIiMgCbJqIiIiILMCmiYiIiMgCbJqIiIiq0YWTx8WOQBXEpomIiKiabP54FC7cGAkUfcTmqQZi00RERFTF1Pl52LrySfi03g8nJyM86l5E6rmZSD34m9jRyApsmoiIiKpQZnoaEr4fDmXjZABAXnpLFBdL4e59Ff9cfQXJe+PFDUgWY9NERERURU7s241Dh0bDU3UWRqME2X8+hAEjt+L64V4o1rvCTXkNl2+9iSMJcWJHJQuwaSIiIqoCe79ZiYvZc+DucwWGYhfcSo7EsOlrAACerXtD/fdQ6HVyKDxvILPoXeyL+1rcwFQuNk1EREQ2tv3Tt6D2XAaFRzZ0WgUKTw3FsFmflhgzYGIsitOehk7rBoVHDnKlS/HL/74QKTFZgk0TERGRDX23cBpcG/8PrvJCFBUq4Zz1PJ6Iea/MsQP+by4kGaOhLXKH3C0XGq/PkLB6afUGJouxaSIiIrKRbxc9B2W7H+Ei1UF9KwABsrmIHD31vs/pO24WXHNegFbjBZkiH4bAVfhxZdlNFomLTRMRkY0c2/098k/uQW72TbGjkAi+Wz4SPu1+gZOTEQVZDRHe4jN0inzCouf2GjkJHuopKCqsA1eZGk7BG/DD8jerODFZy0XsAERENdWRhDic/+tHuPhkwdXvKhQe2QjqAuxPOgxk9MHAibFiR6RqoM7PQ/y3o+Hd8i8AQG56K/QctBpKH1+r6jw8bBwO7HTHjfyFUHhmA003I26p7p6n9qj6sWkiIrJQWU2Sb4eSY4xGJ7gps2D03IDvPj+F7o9/gMCQUHECU5W7ev40Dh2YAmXoOQBAzt8PYMDY1ZArFBWq16X/CBz72QNXct+Gm/I6JC3jsGWRFk/OXGzL2FRBbJqIiO7BkiapqLAOtDdVKL4ZgPpNe+DcmdPwDE6CZ90L8G52FEeSh0O75VE8OX2BOG+Cqkzy3nik33gHnoEZMBqdcOuvhzBsxleVrtvhsf6Q7VfgXMZcuNfJhGebndi8UI9hs5bZIDVVBpsmIqLbrG6SmvVEz4HPmB/T6/W4LvyIxx6djfiV0+HZ6gAUHtmQt9mKLavOokPnuQht/Z+CVCPt2fgZNB6r4O6dg+JiKfL/6oVhs5bbrH6riMcg/9MdKWdmw8P3CpRtd+HbhRMx/D/TFlD1YtNERLXa9x+9BCef89j10ztWN0n3IlcoMGzmKhyK34qrV1fAU3UWdUL/wqkL43E0/mE8NeujKno3VB2+X/YGXJvEQSFTQ6dVQHt2EJ6aNd/mr9O4bWdI3T7H8WOT4VH3IrzbJWLzwucxbNYKm78WWYZNExHVWlsWzUCd9tshkQjmbRVpku7lwb5DAQzF5g9fhEerJMjd8iDvsANxa86jWdh0tIp4zAbvgqrT5oVT4NUmES4uetOdbjlj0G/qlCp7vZCmLeEqW4UDfzwPz4Dz8G7/MzYvGo9hM1dV2WvSvbFpIqJayyX4OCQSAYU5QSi60LzSTdK9DJv9OU7u/xlnziyBV/ApeIWcQnpODE592BXDZn9u89ejqhH38YvwbvcbnJyMKLwViHrKl9Fx4KAqf93AkFA8Iv8avyaMg5fqDLzb7cXmJWPMS7JQ9eE8TURUK21b+io8/NIhCBLknumGJ6Z+hq5V0DDd0SriMTwxejuyjz0OrcYLrvJC+HRMxLb1fXEofmuVvS5VXpFGA/3lTfBt/yucnIzIv9YI7cJXomPPqm+Y7vD2D0Kfwd8g91ILSCQCfNr+js0fRVfb65MJmyYiqp0CDgMACjIbw6tl12p72WGzlqFFg1W4ldYGgiCBp+ossvE6Ni8ajyKNptpykOUSvxkL7xaHAAC5F1ojcsAWhDRtWe053Dy98Pjwzci90BoA4BOehO+/GF3tOWozNk1EVOvs+OxtePifBwBIcrpU++uHtu6AJ8fHIfevodAUeEPqqoVP+18R/8MA/La58resk+1s+/hVKBsnAwByTnXG489sgpunl2h55AoFHn9mE26dawcA8G55EPqrG0TLU9uwaSKiWkfvmQSJBCjIaojHX3hdtBxPTl+ATu02I+dMRxiNTvCsewEa5QJsXjqaR53shCTgAAAgP6MJBr+wtsKTVtqSXKHAkxO24NbpTgAA77CjiPv4/0ROVTuwaSKiWiVh9VJ4Bp0FABRndBQ5jeki36de/Baav6Ogzq0LFxc9fNrsQ8LOSCSu49QEYtqy5CV41L0IQZAgPz1c7DilPPl/3+DW+bYAAPewo7hx9bLIiRwfmyYiqlUKJXsgkQgouFnfrmbpHjR5Hh5+ZCdyTnWGweAMd5+rcAleAd2FzWJHq7Vc6pmuY8rPaAqvlg+JnKZszVpPhV4nh9wtD79sniN2HIcnatP022+/YeDAgVCpVJBIJNi2bZv5Mb1ej5dffhnh4eFwd3eHSqXCs88+i6tXr5aoodVqMWXKFPj5+cHd3R2DBg3C5cslu+2cnBxER0dDqVRCqVQiOjoat27dKjEmPT0dAwcOhLu7O/z8/DB16lTodLqqeutEJILfNn8Fj/p/AwD0F9uJG6YMSh9fPDV5I4yXnkdhtgrOzgb4hO/HtqUxYkerdb5bPAMefpcgCBLItPY7n1bzjt2Qd6Y9AMAz7DjOHEsSOZFjE7VpKiwsRNu2bbF8eemp59VqNY4dO4a5c+fi2LFj2Lp1K86cOYNBg0re4hkTE4O4uDhs2rQJ+/btQ0FBAQYMGACDwWAeExUVheTkZMTHxyM+Ph7JycmIjv73Vk2DwYD+/fujsLAQ+/btw6ZNm7BlyxbMnDmz6t48EVW7G3nbzXPsDJj0vthx7qnvuFmI7J+A3HTTHVpuLZKQfvaUyKlqF9eQIwCA/Cth6P1sjLhhyiEoH4NW4wWpqwYnDvGUblUSdXLLfv36oV+/fmU+plQqkZiYWGLbsmXL8OCDDyI9PR0hISHIzc3FqlWrsG7dOvTq1QsAsH79egQHB2P37t3o06cPUlNTER8fjwMHDqBz584AgJUrVyIiIgKnT59GWFgYEhIScOrUKVy6dAkqlQoAsGjRIowZMwbvvvsuvLzEu1OCiGzjUPxWeISYGg/t+TZ2cUHv/cgVCjRtPhOXc6ZA7paHwz+/iZCmPFVXHb5bOA3eHa7AaHSCB/qKHadc8jq+KPi7A2Ttf4Vno2Qc2PkNuvQfIXYsh1SjZgTPzc2FRCJBnTp1AABHjx6FXq9HZGSkeYxKpULr1q2RlJSEPn36YP/+/VAqleaGCQC6dOkCpVKJpKQkhIWFYf/+/WjdurW5YQKAPn36QKvV4ujRo3j00UfLzKPVaqHVas2f5+XlATCdWtTr9TZ733dq2aqmLevZczZb12M2+6hX0VqX0jeiTpNiaPL90Pf5D0rVscd/h8ZtHsTJTx5A3Y574dU4GT+ueA+9x86yi3yO+D0CmCaydA09CgDIv9wcA0e+WCPe62PR72J/0mC4ed3A1csbodcPFT2brevZOltZtcsjEQRBKH9Y1ZNIJIiLi8OQIUPKfLyoqAjdu3dH8+bNsX79egDAxo0bMXbs2BKNCwBERkYiNDQUX3zxBebPn481a9bgzJkzJcY0a9YMY8eOxZw5c/D888/jwoULSEhIKDFGJpNhzZo1eOaZsmcJjo2Nxbx580pt37hxI9zc3Cx960RUxfKvnEPdJivg4qLH9SM9oAirvpmcK0tfpINU8gk8/C6h4GY96I1TIJW7ih3LYRWe/BEBXXbDaHRCZvIIeDV9QOxIFiuR/eiT8GoeIXakGkOtViMqKgq5ubn3PbtUI4406fV6PP300zAajfj000/LHS8IAiQSifnzu/9emTH/NWfOHMyYMcP8eV5eHoKDgxEZGWnTU3p6vR6JiYno3bs3pFKpXdWz52y2rsds9lGvIrW+XxltXmC133MLSkxOKHY2S+pJs/rC4P0VPHyv4Obxn/D41C9Ez+do3yOA6SjTr8YPAAD56S3x9LQ3bZ7N1vVK1Hr8cfy4rRc8fC/Do/5xPP7426Jms3U9W2e7250zReWx+6ZJr9dj+PDhSEtLw88//1yiGQkMDIROp0NOTg68vb3N27OystC1a1fzmGvXrpWqe/36dQQEBJjHHDx4sMTjOTk50Ov15jFlkclkkMlkpbZLpVKb/4NWRV1b1rPnbLaux2z2Uc/SWmkpx+DR6AQAQH22DZQDfe0mm6V6j5mJH748jjphR+DZ8hBOJu1Bu0cqfq2NPb9XMbNt+2gqfDpcg8HgDH/vJ0s9tya8V+FKN8D3G3gF/YOdn7yJITHzRc9m63pV8TvW0np2PU/TnYbp7Nmz2L17N3x9S/6w69ixI6RSaYkLxjMyMpCSkmJumiIiIpCbm4tDhw6Zxxw8eBC5ubklxqSkpCAjI8M8JiEhATKZDB07ij/5HRFV3JFfFkHqWgStxhO9RlXsF4g9iOjzFooKlXCVaXA+rfwj7mSdIo0G8ibHAQAF6a3Q/YlnRU5UMUNi5iMvowkAQFLvD5HTOB5Rm6aCggIkJycjOTkZAJCWlobk5GSkp6ejuLgYTz31FI4cOYINGzbAYDAgMzMTmZmZ5vmTlEolxo8fj5kzZ2LPnj04fvw4Ro0ahfDwcPPddC1atEDfvn0xYcIEHDhwAAcOHMCECRMwYMAAhIWFATBdA9WyZUtER0fj+PHj2LNnD2bNmoUJEybwzjmiGiwzPQ0ejU1HmQr/aQNv/yCRE1WcqlEY1Ke7AQC8gk9i65KXRU7kWLYvj4Gb13UYDC5QBT4tdpxKcdP2Md3553sZ3y2cLHYchyJq03TkyBG0b98e7dubJuaaMWMG2rdvjzfeeAOXL1/GDz/8gMuXL6Ndu3YICgoyfyQl/Tt515IlSzBkyBAMHz4c3bp1g5ubG7Zv3w5nZ2fzmA0bNiA8PByRkZGIjIxEmzZtsG7dOvPjzs7O2LlzJ+RyObp164bhw4djyJAhWLhwYfV9MYjI5n7fGgtXeSF0Wjd0G/ia2HEqbdisZci72hQSCSAN/RW52TfFjuQQ1Pl5UDQ7BgDIv9C6xt+u32fcDOTfnuNL1uQw1PmWXa9D5RP1mqYePXrgfjfvWXJjn1wux7Jly7Bs2bJ7jvHx8THfcXcvISEh2LFjR7mvR0Q1Q05WBtyb/gUAKDwXDlW/MJET2Ya/RzQK9O/AzesGEtZPw7Cp9//ZRuXb+cVM+HTIRnGxFA0ajBI7jk2oAqKQW/wm3LxuYOeK6Rg2c5XYkRyCXV/TRERUUYnrX4NMkQe9Xob2D00TO47NdBsyEnm3V7f3an4Ev29ZI26gGi43+yYUzW5fy5QWjk6RT4icyDa69B+BgjuL+TY/hsz0NJETOQY2TUTkcNT5eXBrcvso0/lwNG7buZxn1Cz9x34CdW5duLjocVP7P7Hj1GgJq1+CwiMHxXpXNG4+Xuw4NhX+4DTodQrIFHn4fdtcseM4BDZNRORwdn4xy/SLsFiKxi3Hih3H5tw8vWC4+BgEQQLPwH+weeEksSPVSDlZGXC7c5TpfJtKTeNgj5p16Ir807cX8212HKkHfxM5Uc3HpomIHIrp1nHTUaaCi60c7hfhHUNi5iPvYisAgFtzLuhbEbvXvwq5ey70ehmat3tB7DhV4tFh76FI7QWpaxFOHV8udpwaj00TETmU7Z/MvH3ruDPqqYaLHadKhbWYBp3WzbygL1nuxtXLcA9LBgAUnGuDVhGPiRuoivip6qPwtGm+Qc9Gf+KPbRtETlSzsWkiIociC719lOlSixp/63h5WkU8hvxTpuu1vBon46cv3xc5Uc3xy7e3bxTQydG+23Sx41SpQROXQZ1XF84uxbiW863YcWo0Nk1E5DC+WzQd7t4ZMBqd4K14XOw41WLQxGUouBEMJycjdMofUaTRiB3J7mWmp8G9WTIAoOBcW4e7UeC/5AoFiv4xLTzsGXwS8V9xDsKKYtNERA5DGnz7ot6rYXj0Gce8RuW/5AoFZAUDYDA4w8P3Cn74lBeFl+f3bW9AJi+ATqtAp8dqx8zqw2bdaa4FFMkTy38ClYlNExE5hLilc+DhdwmCIIGiuIfYcapV33GzkP/P7bukWh5C8t54kRPZr/Szp+DRNBkAUPBPOzRs0VbcQNVIyOgOQQA8A/9B3NJXxI5TI7FpIiKHIAk4AgAoyGiCvuNmiZym+nFBX8scjJ8PV5kauiJ3dO77qthxqtWQae8gP6MpAMCpXlI5o6ksbJqIqMbb8dnb8PA/DwBwzusichpxcEHf8qWlHINHk2QAQMHZdghp2lLcQCJwNzx+ezHfK5zfqwLYNBFRjaf3TIJEAuRnhWLgxFix44hm2KxlyOeCvvd0dO9CuMo00Go88NAT88SOI4rI0VORn26a30vRlIv5WotNExHVaLu+WgzPoLMAACGzk8hpxFfXIxrFxVLzgr5kcuZYEjwa/wkAKDzbHoEhoSInEk991bMoLpZC4XkTO1bEiB2nRmHTREQ1mtr5F0gkAgpu1scTMZynqNuQkchLNd1ezgV9//XXgY8hdS2CVuOFR4e/I3YcUT3Ydyjyz5kugPfgYr5WYdNERDXW3m9WwqPe3wAAfXp7kdPYj8jopVzQ9y4n9/8Mj8a3F3A+3Q5+qvoiJxJf+64zoNMqIFPk4/fvuZivpdg0EVGNdbNwJ5ycjCi8FYinZi4VO47dUPr4ckHfu/z95xeQSrUoKlQicgwndgSAxm07o+BMBwCAZ9NjOLn/Z5ET1QxsmoioRjqSsBUewakAgKLztWeuHUtxQV+T5L3x8GhkupZJfaY9lD6+IieyH48Om48itRJSVy3+/uszsePUCGyaiKhGunplM5ydi6HO88OgSYvEjmOXuKAvcO70Kri46KEp8Eb/55eIHceu+KnqQ/33ncV8/8K+uK9FTmT/2DQRUY2Tf+UcPBqmAAA0/7SBXKEQOZF9+u+Cvomra9epqWO7v4dHwxMAAM2Z9nDz9BI5kf0ZOOljqHPrwtm5GFm5m8WOY/fYNBFRjSPHQfPRgwEv8CjT/QyauAwFN+vDyckIvfdP0BfpxI5UbS5f/p/p+yTfF/35fVImuUIB7TlTY+1ZP7XWNdbWYtNERDXKhZPH4dHo36NMPHpwf3KFArL8geZZoA2Xd4odqVrkpf0Fz9tHI9VnOvD75D6emvURCm6EwMlJgM7jF7Hj2DU2TURUo/z5+0e359vxRK9R74odp0boO24W8v4x3Snl3WY/tn/yusiJqp6757Hb17zVxaDJvJapXNfuLOZ7DvkpiWKnsVtsmoioxijSaKAINd0FVni2Dbz9g0ROVHM8MmgRCm7Wh7NzMRRhO5H49TKxI1WZfdvWwSPkJACg6GwHXvNmgcFT3kZ+RjMAgFfYXyKnsV9smoioxkhY9T7kbnkwGp3QvMs4sePUKH6q+mgYOBeaAh+4yjTQea9B8t54sWPZ3I8r30Oh6+dwdjZAnRuAgZN5LZOl3A39IAiAu88V7Nnwidhx7BKbJiKqMXQupnmZCm+GoHnHbiKnqXladnkEOWf6mKYhcL+F9OvvOswSGkUaDTYvGQOXhmug8LwJvU4G/cWHeJTJCpGjp0J9SwUAKCg8KHIa+8SmiYhqDLnK9Ated4XLYFSUV9MHUHRmIAzFLnD3uYr9v01EkUYjdqxKST34G+K3PAGftr/D2bkYhdkqXD85HAMn1e415ipCe7khAEBWzzGaaVtj00RENcKPXy6AwiMbgiCBTtpS7Dg12oCJ85D7Z08IggReqjPY+fWzYkeqsK1LXkbajWnwVJ2FIEiQc7oTuj60GV5NuBZhRQQF94YgSODmdR0Jq5eKHcfusGkiohpBrT0OACjMVsEzpLnIaWq+YbM/Rc6JrgCAOk2PYfPSMeIGspI6Pw/fLY+CZ/hWyBR50Ba549afg/DU/33DpVIqofPAZ6DOMd1gkafhKbr/YtNERDWCTHUBAKC72kDcIA5kWMzXuHWuHQCgTut9+G7hZHEDWShp+/+Q+NMgeLc8CCcnI/KvNUKg/D08NWOx2NEcgvkUneq8uEHsEJsmIrJ7e79ZCTdlFgQB8FM9KnYch9Lv6dXIz2gCJycBnm124/tlb4gd6b6++3Aycl3ehYffJRgMzshO6Yq+Q35Ah8f6ix3NYWjR/PYpuhuI/4ozhN+NTRMR2b2sa3sBAJrcAHQfEi1yGsfi5umFByM+RmFOEFxc9HBtvA17v1kpdqxSbly9jC0rn0SdDj/BVaZBUWEdFJ1+BsOmruMdcjbmGdoahdm376IrOiJyGvvCpomI7J5MdREAoL3aUNwgDkrVKAz16ryEokIlXOWFyJevQOrB38SOZZaw9mPsPzgMdRonQyIBci+1QMvQlRg0eZ7Y0RyW7kpDAIC8Hk/R3Y1NExHZtUPxW+HmnQEA8HJ/UOQ0jqtjz0GQ3ngWep0cCs9snLn4Bm5cvSx2LHy76DkIQZ/CTZmF4mIpbh5/FENH70Bo6w5iR3No9Zv2hyBIoPC8iZ++fF/sOHaDTRMR2bWLf/8AiUSAJt8XkWNjxI7j0CLHxqAwtT8MBmd4+F3C77tfFG0Op7SUY4j7egB82/8CFxc91LkBkGRMxPCZX4qSp7bpFDkUhdn1AACF+uMip7EfbJqIyK65Bt05NRcqcpLa4cnpC5D7Zw8IAuBVPxU7Vo+t9gw/LH8Tp9ImwKt+KgQBuHWuHSI6f4vI0VOrPUttZj5Fx7vozNg0EZHdOrn/Z7j5mk4RuQqtRE5TewybtQI5pyIAAN7ND+PbRdWzzp++SIdtn42DPOx/kLvfgk6rwK1j/fDkhC3wU3EW+OoW2nLI7VN02dj5xXyx49gFNk1EZLdOJW2Ak5MRRYVK9B47W+w4tcqwKeuReyEcAODd9nd8t3Balb7eX3vj4WJcAZ/WSXB2NqDgRjCUxa/hqdnLq/R16d46RT5hPkVXZPxT5DT2gU0TEdktaVA6AKAoM5S3lYug77CvkX8tFE5ORniGJ2DH57Zdy+3cnwexeeHziPu6P64XvwLPgPMwGp2Qk9oZvfv9gK4Dn7Hp65H1dFdMp8VlvIsOAJsmIrJTF1L/hFtdU9MkKWgicprayc3TC+3aLYI61x8uUh2cgr/DH9s2VKpmwtqPsfnjUfj+2x44f30UfDrsgVf9vyF1LUKR2gt5J57AU5M2ws3Ty0bvgiqjUfhQGI0SKDyybd4010QuYgcgIirL4R2fwqdjMbRF7nj8xVix49RaDVu0Reb5GGRr3odMkYds3TKkpbRA/bBwi56fm30TiavfgcQrHbKAi1AE58An+N/HtRoPFGU1RPENFYS6HTF08ugqeidUER17DsL33y6Gh98laHFC7DiiY9NERHbJJfDOqblGPDUnsi79R+DHleehD1kHN+V1/JUyG551733E6djPO3Hu+FZIA65AXjcd3u215scEQQJ1bgB0mSGQoQV6j50NuUIBvV6PH3/8sTreDllJd6Uh4HcJMtU5saOIjk0TEdmdG1cvw83/AgDAmNNQ1Cxk8viEOfhuURaUbXfAw/8Cftv5Apx9TXfVFWk02L12EYoMp+AamA63OpnwaS+Yn1usd4XmRgh01+qhcdsh6DV0kFhvgyqgcdthuGn8AwqPHGz/9C0MnGjf6xNWJTZNRGR3ftn4Hnw66KDXydF77Fyx49BtT81cgm8X5cO3/S9QNkzBrfNrsX3dV5AHpEPRLA93Hw8sKqyDomsNINwKRs9nX4G3f5BoualyOjzWH99/sxAeddOhc0oRO46o2DQRkd1x8TOdmlNfC4XSx1fkNHS34TO/xHefPAPvFodQp9G/t6EbjU5Q56igywyGl3sH9B83Q8SUZGu6Kw2BuumQ16vdp+jYNBGRXcnNvglFYBoAoPh6iMhpqCwDxn2FH9ePglx1Dtqb9aDPUiH8oWi06PWw2NGoijTtOALX9fsgd7+F7Z/GYuDEWLEjiULUKQd+++03DBw4ECqVChKJBNu2bSvxuCAIiI2NhUqlgkKhQI8ePXDy5MkSY7RaLaZMmQI/Pz+4u7tj0KBBuHy55CKTOTk5iI6OhlKphFKpRHR0NG7dulViTHp6OgYOHAh3d3f4+flh6tSp0Ol0VfG2ieg+Ele/A6mrBsXFUjw8nBNa2iO5QoGBYzZBXzwPA57ZhuGzVqJFZzZMjqzdI32hvmm67VHnfLKc0Y5L1KapsLAQbdu2xfLlZc/4umDBAixevBjLly/H4cOHERgYiN69eyM/P988JiYmBnFxcdi0aRP27duHgoICDBgwAAaDwTwmKioKycnJiI+PR3x8PJKTkxEdHW1+3GAwoH///igsLMS+ffuwadMmbNmyBTNnzqy6N09EZXKqcwEAoM5qiMAQrjdHZC/+XYvunGgLOYtN1NNz/fr1Q79+/cp8TBAELF26FK+99hqGDh0KAFi7di0CAgKwceNGvPDCC8jNzcWqVauwbt069OrVCwCwfv16BAcHY/fu3ejTpw9SU1MRHx+PAwcOoHPnzgCAlStXIiIiAqdPn0ZYWBgSEhJw6tQpXLp0CSqVCgCwaNEijBkzBu+++y68vDjJGlF1KNJoIA80zTyszwwuZzQRVaeWEaNwtfB3yN1zsevL9zB4yltiR6p2dntNU1paGjIzMxEZGWneJpPJ8MgjjyApKQkvvPACjh49Cr1eX2KMSqVC69atkZSUhD59+mD//v1QKpXmhgkAunTpAqVSiaSkJISFhWH//v1o3bq1uWECgD59+kCr1eLo0aN49NFHy8yo1Wqh1f47/0heXh4AQK/XQ6/X2+xrcaeWrWrasp49Z7N1PWar+no/ffEWvNoUwGBwQfteE8ocb8/v1Z6z2boes9lHverM1qzTQzi7NQSedS+gWJZq0Wva83stq3Z5JIIgCOUPq3oSiQRxcXEYMmQIACApKQndunXDlStXSjQzzz//PC5evIhdu3Zh48aNGDt2bInGBQAiIyMRGhqKL774AvPnz8eaNWtw5syZEmOaNWuGsWPHYs6cOXj++edx4cIFJCQklBgjk8mwZs0aPPNM2esfxcbGYt68eaW2b9y4EW5ubhX5MhDVasXX1qFOk+PIv9YIErfJYschov8o+icOfu1/R1GhEhr1HEjlrmJHsgm1Wo2oqCjk5ube9+yS3R5pukMikZT4XBCEUtv+679jyhpfkTH/NWfOHMyY8e9ttXl5eQgODkZkZKRNT+np9XokJiaid+/ekEqldlXPnrPZuh6zVX29hHjT4X5dRjCemPK4XWWr7lr2Xo/Z7KNedWc7dcAdWdo/IHfPhT7tLzz+f/ef6NKe3+vd7pwpKo/dNk2BgYEAgMzMTAQF/TspWlZWFgICAsxjdDodcnJy4O3tXWJM165dzWOuXbtWqv7169dL1Dl48GCJx3NycqDX681jyiKTySCTyUptl0qlNv8HrYq6tqxnz9lsXY/Zqqbejs/ehiLsFoxGJ7R4MKrc17Xn92rP2Wxdj9nso151ZWv7UC98vykEHv4XYJCnWvya9vxe79S0hKh3z91PaGgoAgMDkZiYaN6m0+mwd+9ec0PUsWNHSKXSEmMyMjKQkpJiHhMREYHc3FwcOnTIPObgwYPIzc0tMSYlJQUZGRnmMQkJCZDJZOjYsWOVvk8iMimCaaZhdXY9hHfvJXIaIroX7ZUGAGrnXXSiNk0FBQVITk5GcnIyANPF38nJyUhPT4dEIkFMTAzmz5+PuLg4pKSkYMyYMXBzc0NUVBQAQKlUYvz48Zg5cyb27NmD48ePY9SoUQgPDzffTdeiRQv07dsXEyZMwIEDB3DgwAFMmDABAwYMQFhYGADTNVAtW7ZEdHQ0jh8/jj179mDWrFmYMGEC75wjqiayoAsAAN3VBuIGIaL7Cu8+BgaDM+RueYhf+bbYcaqVqKfnjhw5UuLOtDvXB40ePRpr1qzBSy+9BI1Gg4kTJyInJwedO3dGQkICPD09zc9ZsmQJXFxcMHz4cGg0GvTs2RNr1qyBs7OzecyGDRswdepU8112gwYNKjE3lLOzM3bu3ImJEyeiW7duUCgUiIqKwsKFC6v6S0BEABK/Xga3+jcgCBIENy37WiYisg8tOj+M0/8LgWdAGgyK02LHqVaiNk09evTA/W7ek0gkiI2NRWxs7D3HyOVyLFu2DMuWLbvnGB8fH6xfv/6+WUJCQrBjx45yMxOR7eXmHYA3APWtIPR6coTYcYioHPqrDYCANChU503zqykU5T/JAdjtNU1EVHu4qi4AALQ8NUdUI7R9dDwMBmfIFHn46YvaM8klmyYiEtUf2zbATZkJAPDx7SZyGiKyRLMOXaG+YfpPjuB+ppzRjoNNExGJ6urFXZBIAHVuXfSM+j+x4xCRhe7ctFGb7qJj00REonJVXQQAaDMaihuEiKzSsdcEGAwukCny8ePnsWLHqRZsmohINMd+3gk37ysAADdpW5HTEJE1GrftDPX126foPM+KnKZ6sGkiItGcS/4OTk4CNAXeeHzCHLHjEJGV9LdP0SmCascpOjZNRCQaV1U6AECbESpyEiKqiE59/+/2KboC7Pz8TbHjVDk2TUQkinN/HoTC9xIAwEXXXOQ0RFQRoa07mE/RwcvxT9GxaSIiURxL/BLOzgZoNV7o89yrYschogrS1aJTdGyaiEgULkGmU3OajNBaM5swkSN6sP9k0yk6eSF+/Gyu2HGqFJsmIqp2V8+fhltd01QDyOP1TEQ1WcMWbaHOamj6RHlO1CxVjU0TEVW7P7YuhYuLHjqtG/pNcPyLR4kcnT7j31N06vw8kdNUHTZNRFTtXPxvn5q7Fgo3Ty+R0xBRZXUeHANDsQtc5YX4aUWs2HGqDJsmIqpWOVkZUPinAQAMN7hAL5EjCGnaEuos06l2ifd5kdNUHTZNRFStdn89H1JXLfR6GXo9y7vmiBxFbThFx6aJiKqVs++/p+a8/YNETkNEttJ5yDQUF0vhKlPjxxWOea0imyYiqjbq/DwoAk2H7ouvBYuchohs6e5TdE4OeoqOTRMRVZs9a96Dq0yN4mIpOg+ZKnYcIrIxfeadU3TnHfIUHZsmIqo2gpfpf5+aGw0Q0rSlyGmIyNa6D53u0Kfo2DQRUbXQF+kgDzTdNafL4Kk5IkekahQG9bXbp+h8HO8UHZsmIqoWRef+gNwtD0ajE9o9Ok7sOERURYqvNQQAKALPITf7prhhbIxNExFVC7nPVQBA4c0QNOvQVeQ0RFRVHhr+Eor1rnCVafDLuvfEjmNTbJqIqFrIVaZTc/qrPDVH5MgCQ0LNd9E5+6WJnMa2rGqaiouLMW/ePFy6dKmq8hCRA0pcsxgKj2wYjRI0ajNU7DhEVMWKr5nuonMLPA+tplDkNLZjVdPk4uKCDz/8EAaDoaryEJEDUuuSTX/m1EPHnoPEDUNEVe7OKTqpqwb687+JHcdmrD4916tXL/z6669VEIWIHJVMdQEAoMsIETcIEVWLwJBQqK81AgAogjJETmM7LtY+oV+/fpgzZw5SUlLQsWNHuLu7l3h80CD+L5KI/rX3m5Vwq5sFQQD8gh4VOw4RVRN9lgqo/zdkdR3nkh6rm6b/+7//AwAsXry41GMSiYSn7oiohKzM3+BTF9DkBqDvkGix4xBRNWnRZQSuaX+B3C0XezZ8gr5jYsSOVGlWn54zGo33/GDDRET/5Rp4BQCgzeSpOaLaJLx7L2hyAwAA+bnHRE5jG5WacqCoqMhWOYjIAV09fxoKH1PTVHTLX+Q0RFTddFn1AQBS/6siJ7ENq5smg8GAt99+G/Xq1YOHhwfOnzdNkz537lysWrXK5gGJqOZK2rIMzs7F0GkVkDd+SOw4RFTNJGrTvGwK38vIyar5F4Rb3TS9++67WLNmDRYsWABXV1fz9vDwcHz55Zc2DUdENZvkzlGmGyGQyl3LGU1EjubhkbOg18vg4qLHnnULxI5TaVY3TV9//TVWrFiBkSNHwtnZ2by9TZs2+Pvvv20ajohqtjt3zeizgkROQkRiUPr4ouim6RSdxPOyyGkqz+qm6cqVK2jSpEmp7UajEXq93iahiKjm27PxMyg8ciAIEjRszalIiGorXabpP02uDjD1gNVNU6tWrfD777+X2r5582a0b9/eJqGIqObLzjoAANDk+aP9Y4+LnIaIxKI13r6uyes6ju75QeQ0lWP1PE1vvvkmoqOjceXKFRiNRmzduhWnT5/G119/jR07dlRFRiKqgaQBpuuZdNe4QC9RbebV9AFoCuKh8MjB+ePf1+illKw+0jRw4EB88803+PHHHyGRSPDGG28gNTUV27dvR+/evasiIxHVMDeuXobC9/b1C5oG4oYhItHprpv+8+RSN1PkJJVj9ZEmAOjTpw/69Olj6yxE5CB+3fghvDvoodfJ0O+518WOQ0QiM2QHAaF/QV43HUUaDeQKhdiRKqRSk1sSEZVFojQdZSq6EQI3Ty+R0xCR2Dr0Gw+DwRmuMjUSV38gdpwKs+hIk7e3NyQSiUUFs7OzKxWIiGo+mf+dqQZUIichInsQEtYGKalB8PC9DK1wRuw4FWZR07R06VLz32/evIl33nkHffr0QUREBABg//792LVrF+bOnVslIYmo5tgX9zUUypsQBCA4jKfxichEn1UP8L0Mqf8VsaNUmEVN0+jRo81/f/LJJ/HWW29h8uTJ5m1Tp07F8uXLsXv3bkyfPt32KYmoxsi48DN82gKa/LroNWSE2HGIyE7IJM0AHISiTgYupP6Jhi3aih3JalZf07Rr1y707du31PY+ffpg9+7dNglFRDWXNMC0vtSdhTqJiACg99iXodO6wdnZgMM7vxA7ToVY3TT5+voiLi6u1PZt27bB19fXJqGIqGbKzb4Jua/peiahIETkNERkT+QKBYqum34uOHvXzMV7rZ5yYN68eRg/fjx+/fVX8zVNBw4cQHx8PBfsJarldq+ZjzrttCjWu6LnqNlixyEiO1N8PRCo/3eNXVLF6iNNY8aMQVJSEurUqYOtW7diy5YtUCqV+OOPPzBmzBibhisuLsbrr7+O0NBQKBQKNGrUCG+99RaMRqN5jCAIiI2NhUqlgkKhQI8ePXDy5MkSdbRaLaZMmQI/Pz+4u7tj0KBBuHy55MKBOTk5iI6OhlKphFKpRHR0NG7dumXT90Pk8NzTAQCam/Xh7c9FeomopNDwARAEQOGRg73frBQ7jtWsapr0ej3Gjh2LunXrYsOGDTh27BiOHz+ODRs2oHPnzjYP98EHH+Dzzz/H8uXLkZqaigULFuDDDz/EsmXLzGMWLFiAxYsXY/ny5Th8+DACAwPRu3dv5Ofnm8fExMQgLi4OmzZtwr59+1BQUIABAwbAYDCYx0RFRSE5ORnx8fGIj49HcnIyoqOjbf6eiByZq3mqgXoiJyEie9Qp8glo8uoCALIy/hA5jfWsOj0nlUoRFxdXbVML7N+/H4MHD0b//v0BAA0bNsT//vc/HDlyBIDpKNPSpUvx2muvYejQoQCAtWvXIiAgABs3bsQLL7yA3NxcrFq1CuvWrUOvXr0AAOvXr0dwcDB2796NPn36IDU1FfHx8Thw4IC5+Vu5ciUiIiJw+vRphIWFlZlPq9VCq9WaP8/LywNgai71er3Nvg53atmqpi3r2XM2W9djtvs7krAVCq/rAAC/oG4lnuto77U6atl7PWazj3r2nO1e9XTXg+GmvA6p/1WrXsfW2cqqXR6JIAiCNYXHjh2L8PBwzJgxo0LBrPH+++/j888/R0JCApo1a4Y///wTkZGRWLp0KZ555hmcP38ejRs3xrFjx9C+fXvz8wYPHow6depg7dq1+Pnnn9GzZ09kZ2fD29vbPKZt27YYMmQI5s2bh6+++gozZswodTquTp06WLJkCcaOHVtmvtjYWMybN6/U9o0bN8LNzc02XwSiGqLo7Db4dfgNmnwfGMClU4iobAUpuxAYsQt6vQx5Oa9DpnAXOxLUajWioqKQm5sLL697r2Jg9YXgTZo0wdtvv42kpCR07NgR7u4l3+zUqVOtT3sPL7/8MnJzc9G8eXM4OzvDYDDg3XffxTPPPAMAyMw0LfwXEBBQ4nkBAQG4ePGieYyrq2uJhunOmDvPz8zMhL+/f6nX9/f3N48py5w5c0o0j3l5eQgODkZkZOR9v+jW0uv1SExMRO/evSGVSu2qnj1ns3U9Zru/Hd98DgDQZYVg4JjHqyyfPbzXmpjN1vWYzT7q2XO2e9XL6dQex0/+DKlUC5erx/D4lPdEyXa3O2eKymN10/Tll1+iTp06OHr0KI4ePVriMYlEYtOm6ZtvvsH69euxceNGtGrVCsnJyYiJiYFKpSox4eZ/l3gRBKHcZV/+O6as8eXVkclkkMlkpbZLpVKb/4NWRV1b1rPnbLaux2ylqfPzoPAzXQRuyFXd8zmO8F6ru5a912M2+6hnz9n+W8+/Xgg0v9eHp38aBMUlq1+nKn7HWlrP6qYpLS3N6jAVNXv2bLzyyit4+umnAQDh4eG4ePEi3nvvPYwePRqBgYEATEeKgoL+vVMnKyvLfPQpMDAQOp0OOTk5JY42ZWVloWvXruYx165dK/X6169fL3UUi4hK27VqPrzaFKG4WIqHhlf9qXsiqtn011SAfxpcAy6XP9iOWD3lwB03btzAzZs3bZmlFLVaDSenkhGdnZ3NUw6EhoYiMDAQiYmJ5sd1Oh327t1rbog6duwIqVRaYkxGRgZSUlLMYyIiIpCbm4tDhw6Zxxw8eBC5ubnmMUR0bwaZ6T9TRdn1EBgSKnIaIrJ3yjqdAAAK5TWc2FdzVhOxqmm6desWJk2aBD8/PwQEBMDf3x9+fn6YPHlylcxpNHDgQLz77rvYuXMnLly4gLi4OCxevBhPPPEEANMptZiYGMyfPx9xcXFISUnBmDFj4ObmhqioKACAUqnE+PHjMXPmTOzZswfHjx/HqFGjEB4ebr6brkWLFujbty8mTJiAAwcO4MCBA5gwYQIGDBhwzzvniOhfstv/W9Rd41QDRFS+yNFTUaRWQiIRkHrgG7HjWMzi03PZ2dmIiIjAlStXMHLkSLRo0QKCICA1NRVr1qzBnj17kJSUVOqC68pYtmwZ5s6di4kTJyIrKwsqlQovvPAC3njjDfOYl156CRqNBhMnTkROTg46d+6MhIQEeHp6mscsWbIELi4uGD58ODQaDXr27Ik1a9bA2dnZPGbDhg2YOnUqIiMjAQCDBg3C8uXLbfZeiBxV8t54KJSm09t1vB8QOQ0R1RTa68GQN8iFtO69b7iyNxY3TW+99RZcXV1x7ty5Utf5vPXWW4iMjMRbb72FJUuW2Cycp6cnli5diqVLl95zjEQiQWxsLGJjY+85Ri6XY9myZSUmxfwvHx8frF+/vhJpiWqnM0e+g297AUWFddD/2SlixyGiGqL4ZhDQIAUyv3QUaTSQKxRiRyqXxafntm3bhoULF5Z5YXRgYCAWLFhQ5kK+ROTYpHVNC29qrweLnISIapJ2jz0Lo9EJMkUBftnwkdhxLGJx05SRkYFWrVrd8/HWrVvfd04jInI8RRoN5HVvTzWQzeuZiMhyzTp0heaW6S74AnWKyGksY3HT5OfnhwsXLtzz8bS0NPj6+toiExHVELu+fA+uMjUMBhd0HjxJ7DhEVMPobq9T6RpwVeQklrG4aerbty9ee+016HS6Uo9ptVrMnTsXffv2tWk4IrJveuezAABNtgohTVuKnIaIahqX4kYAAIXPFWSmV988kBVl8YXg8+bNQ6dOndC0aVNMmjQJzZs3BwCcOnUKn376KbRaLdatW1dlQYnI/rj6c6oBIqq4yLGv4Lc/foDUVYPfv12MYbPufcOWPbC4aapfvz7279+PiRMnYs6cObizzq9EIkHv3r2xfPlyBAfzQlCi2iL14G9Q1DFdx+ju1kbkNERUE7l5ekFzoz6kqrNwUtr/KTqrllEJDQ3FTz/9hJycHJw9azos36RJE/j4+FRJOCKyXym/r4dPByOK1F7o/9xLYschohqqOEsFqM5C5n9J7CjlqtAyKt7e3njwwQfx4IMPsmEiqqVc/O5MNRAichIiqsnqNe0NAFB43sQf2zaInOb+Krz2HBHVXkUaDWT+t6cauBFUzmgionvrOvAZaPJNd99fPb9H5DT3x6aJiKy2e+0iyOQFMBqd0CFyrNhxiKiG02aZrol28bfv65rYNBGR1YqKUwEA6hwVGrftLHIaIqrpjLkqAIDC7zLU+Xkip7k3i5qmDh06ICcnB4BpnTm1Wl2loYjIvkkDTFMN6LM41QARVd5Dw2fAYHCB1FWDhNXvix3nnixqmlJTU1FYWAjANF9TQUFBlYYiIvuVlnIMbt6mQ+hypxYipyEiRxAYEgrN7aWYil3Oi5zm3iyacqBdu3YYO3YsunfvDkEQsHDhQnh4eJQ59o033rBpQCKyL0fiV8KngxHaInf0GjNL7DhE5CB011RA3Ytw9b8idpR7sqhpWrNmDd58803s2LEDEokEP/30E1xcSj9VIpGwaSJycM6+pqNM2usNIFcoRE5DRI7Cw601gP1Q1MnEmWNJaNahq9iRSrGoaQoLC8OmTZsAAE5OTtizZw/8/f2rNBgR2SdZXdNUA8XXOdUAEdnOoyOn4eef/weZogB/7vnaLpsmq++eMxqNbJiIaqn4rxZC7pYHo1GClt2eFjsOETkQuUIB7Q3TZLnOtyfPtTdWLaNyx7lz57B06VKkpqZCIpGgRYsWmDZtGho3bmzrfERkR/ILkuEDQJMbhFa9HhM7DhE5GP31QCD4FGR17XNJFauPNO3atQstW7bEoUOH0KZNG7Ru3RoHDx5Eq1atkJiYWBUZichOuAaYrmfSXeNUA0Rkey26jIAgSCB3y0XC2o/FjlOK1UeaXnnlFUyfPh3vv/9+qe0vv/wyevfubbNwRGQ/0s+egsLHdFeLi76JyGmIyBGFd++FC1sD4FYnE7m3jogdpxSrjzSlpqZi/PjxpbaPGzcOp06dskkoIrI/h77/FM7OxdBpFej7/GtixyEiB6XLqg8AkAbY35IqVjdNdevWRXJycqntycnJvECcyIE5eZuOMhXdCOFUA0RUZSRq0zp0Cp/LyMmyrwvCrT49N2HCBDz//PM4f/48unbtColEgn379uGDDz7AzJkzqyIjEdkBmf/tqQayONUAEVWdnmPmYP/hHyGVarFn3QI8NXOJ2JHMrG6a5s6dC09PTyxatAhz5swBAKhUKsTGxmLq1Kk2D0hE4tu94RPIg25BECRo3H6o2HGIyIEpfXxRdLM+pIHnIPG8LHacEqxumiQSCaZPn47p06cjPz8fAODp6WnzYERkP3KuH4RPEKDJ9UeHof3FjkNEDk6fpQICz8HVzqYesPqaprt5enqyYSKqBaSBd6YaCBY5CRHVBn4BEQAAhdd1HEmIEznNvyrVNBGR47tx9TIUPqZD5JKihuKGIaJa4dFnXoCmwBsSCZB2YofYcczYNBHRff268UO4uOih18nR9zlONUBE1UN33XRk26VupshJ/sWmiYjuS6I0HWXS3AiGm6eXyGmIqLYw5Jju1JXXTUeRRiNyGhOrmia9Xo9HH30UZ86cqao8RGRnZP6mCzGLs1QiJyGi2uSB/i/AYHCGq0yNxNUfiB0HgJVNk1QqRUpKCiQSSVXlISI7sm/bOig8b0IQgOCwPmLHIaJapGGLttDcMh1t0gr2cbDG6tNzzz77LFatWlUVWYjIzty4/BsAQJNfF136jxA5DRHVNvos0+LgUv8rIicxsXqeJp1Ohy+//BKJiYno1KkT3N3dSzy+ePFim4UjInHdWftJl8WpBoio+skkzQAchKJOBtJP/yV2HOubppSUFHTo0AEASl3bxNN2RI6jqCAXdfxM1zMJBWyaiKj69R77Mn75dQtcZWoc+2kVXJuJe5mA1U3TL7/8UhU5iMjOFF88CJcgHYr1rug5arbYcYioFpIrFCi6HgLX+n/D2Uf8xXsrPOXAP//8g127dkFz+zZAQRBsFoqIxCf3ywIAaG4Gw9ufi/QSkTiKrwcCgF0sqWJ103Tz5k307NkTzZo1w+OPP46MDFPn99xzz2HmzJk2D0hE4nC9PdWA/hqnGiAi8YSGD4AgAAqPHOSdPSJqFqubpunTp0MqlSI9PR1ubm7m7SNGjEB8fLxNwxGROA79tAUKz+sAgMCQHuKGIaJarVPkE9Dk1QUAyJzSRc1i9TVNCQkJ2LVrF+rXr19ie9OmTXHx4kWbBSMi8Vz5JwG+7QBNvg96PjlG7DhEVMvprgfDTXkdroHiXtdk9ZGmwsLCEkeY7rhx4wZkMplNQhGRuKT+pqkGtFkhIichIgKEfNOBGrnvZeRm3xQth9VN08MPP4yvv/7a/LlEIoHRaMSHH36IRx991KbhiKj65WbfhOL2VAPG3PrljCYiqno9o19CcbEUUqkWv21YKFoOq0/Pffjhh+jRoweOHDkCnU6Hl156CSdPnkR2djb++OOPqshIRNUocc278G5XhOJiKR4aMV3sOERE8PYPQv7Z9jDqXRAc9oBoOaw+0tSyZUv89ddfePDBB9G7d28UFhZi6NChOH78OBo3blwVGYmoGkmUaQAATVZD+AbWEzkNEZHJ4Oe/hiz0KXSKHCpaBquPNAFAYGAg5s2bZ+ssRCSyIo0GisALpr9ncKoBIqK7VWhyy5ycHCxcuBDjx4/Hc889h0WLFiE7O9vW2QAAV65cwahRo+Dr6ws3Nze0a9cOR48eNT8uCAJiY2OhUqmgUCjQo0cPnDx5skQNrVaLKVOmwM/PD+7u7hg0aBAuX75c6j1FR0dDqVRCqVQiOjoat27dqpL3RGSvEld/AJkiD0ajEwSv9mLHISKyK1Y3TXv37kVoaCg+/vhj5OTkIDs7Gx9//DFCQ0Oxd+9em4bLyclBt27dIJVK8dNPP+HUqVNYtGgR6tSpYx6zYMECLF68GMuXL8fhw4cRGBiI3r17Iz8/3zwmJiYGcXFx2LRpE/bt24eCggIMGDAABoPBPCYqKgrJycmIj49HfHw8kpOTER0dbdP3Q2TvdJJUAID6ZjDcAnnnHBHR3aw+PTdp0iQMHz4cn332GZydnQEABoMBEydOxKRJk5CSkmKzcB988AGCg4OxevVq87aGDRua/y4IApYuXYrXXnsNQ4eaznGuXbsWAQEB2LhxI1544QXk5uZi1apVWLduHXr16gUAWL9+PYKDg7F792706dMHqampiI+Px4EDB9C5c2cAwMqVKxEREYHTp08jLCzMZu+JyJ65Bl0AAOgyguEaKm4WIiJ7Y3XTdO7cOWzZssXcMAGAs7MzZsyYUWIqAlv44Ycf0KdPHwwbNgx79+5FvXr1MHHiREyYMAEAkJaWhszMTERGRpqfI5PJ8MgjjyApKQkvvPACjh49Cr1eX2KMSqVC69atkZSUhD59+mD//v1QKpXmhgkAunTpAqVSiaSkpHs2TVqtFlqt1vx5Xl4eAECv10Ov19vs63Cnlq1q2rKePWezdT1Hz7b3f5/Drf4NCIIEgSE9kW2jbLbKVxW1bF3PnrPZuh6z2Uc9e85m63q2zlZW7fJIBCtX2u3WrRtmz56NIUOGlNi+bds2fPDBB9i/f7815e5LLpcDAGbMmIFhw4bh0KFDiImJwRdffIFnn30WSUlJ6NatG65cuQKV6t+LVp9//nlcvHgRu3btwsaNGzF27NgSzQ0AREZGIjQ0FF988QXmz5+PNWvW4MyZMyXGNGvWDGPHjsWcOXPKzBcbG1vmBfEbN24scwJQInumu/gtfFofQOGtQAjOL4kdh4io2qjVakRFRSE3NxdeXl73HGfRkaa//vrL/PepU6di2rRp+Oeff9ClSxcAwIEDB/DJJ5/g/fffr2TskoxGIzp16oT58+cDANq3b4+TJ0/is88+w7PPPmseJ5FISjxPEIRS2/7rv2PKGl9enTlz5mDGjBnmz/Py8hAcHIzIyMj7ftGtpdfrkZiYiN69e0MqldpVPXvOZut6jp7tp+9NE8bprjbA4+N6O/R7rY3ZbF2P2eyjnj1ns3U9W2e7250zReWxqGlq164dJBIJ7j4o9dJLpf8nGhUVhREjRlgYsXxBQUFo2bJliW0tWrTAli1bAJimPgCAzMxMBAUFmcdkZWUhICDAPEan0yEnJwfe3t4lxnTt2tU85tq1a6Ve//r16+Y6ZZHJZGUuHSOVSm3+D1oVdW1Zz56z2bqeI2Y7khAHN2/Tmk6ebp3MNRzxvVZHPXvOZut6zGYf9ew5m63rVcXvWEvrWXT3XFpaGs6fP4+0tLT7fpw/f75Sof+rW7duOH36dIltZ86cQYMGDQAAoaGhCAwMRGJiovlxnU6HvXv3mhuijh07QiqVlhiTkZGBlJQU85iIiAjk5ubi0KFD5jEHDx5Ebm6ueQyRI0tL+QESiQBNgQ/6jJtR/hOIiGohi4403WlSqtv06dPRtWtXzJ8/H8OHD8ehQ4ewYsUKrFixAoDplFpMTAzmz5+Ppk2bomnTppg/fz7c3NwQFRUFAFAqlRg/fjxmzpwJX19f+Pj4YNasWQgPDzffTdeiRQv07dsXEyZMwBdffAHAdF3UgAEDeOcc1QpSlWmtOW1GQ3GDEBHZsQrNCH7lyhX88ccfyMrKgtFoLPHY1KlTbRIMAB544AHExcVhzpw5eOuttxAaGoqlS5di5MiR5jEvvfQSNBoNJk6ciJycHHTu3BkJCQnw9PQ0j1myZAlcXFwwfPhwaDQa9OzZE2vWrClxB+CGDRswdepU8112gwYNwvLly232XojsVVrKMbj5pgMAnDVNRU5DRGS/rG6aVq9ejRdffBGurq7w9fUtdTG1LZsmABgwYAAGDBhwz8clEgliY2MRGxt7zzFyuRzLli3DsmXL7jnGx8cH69evr0xUohrpSPzn8OlggLbIA31fmCt2HCIiu2V10/TGG2/gjTfewJw5c+DkVKFVWIjIjrgEmJYUKspsCLlCIXIaIiL7ZXXXo1ar8fTTT7NhInIAOVkZUPhfAAAYsrlsChHR/Vjd+YwfPx6bN2+uiixEVM12fz0fUqkWer0MvZ59Vew4RER2zerTc++99x4GDBiA+Ph4hIeHl5rbYPHixTYLR0RVy9nHdAG4JqshvP2DyhlNRFS7Wd00zZ8/H7t27TLfil/erNpEZJ+KNBrIA9MAAMXX6ouchojI/lndNC1evBhfffUVxowZUwVxiKi6xH/xNjzbFMJgcMED/SeJHYeIyO5ZfU2TTCZDt27dqiILEVUjg+IsAEB9MxgNW7QVOQ0Rkf2zummaNm3afec7IqKaQRZ0AQCgvxosbhAiohrC6tNzhw4dws8//4wdO3agVatWpS4E37p1q83CEVHViP9qIRQNsyEIEjRq+4TYcYiIagSrm6Y6depg6NChVZGFiKpJgeYYvAGoc4LQ66lBYschIqoRKrSMChHVbLKgiwAAbYY4i3ETEdVEnNabqJZJ2v4/KJSZAAAfX97UQURkKauPNIWGht53Pqbz589XKhARVa0r5+Lh0wZQ5/lhYNT/iR2HiKjGsLppiomJKfG5Xq/H8ePHER8fj9mzZ9sqFxFVEdcg0yzguoyG4gYhIqphrG6apk2bVub2Tz75BEeOHKl0ICKqOqkHf4Ob72UAgKvQQuQ0REQ1i82uaerXrx+2bNliq3JEVAVO7PsaTk5GFKm90Hvsy2LHISKqUWzWNH333Xfw8fGxVTkiqgLSwEsAgKJrDSFXKEROQ0RUs1h9eq59+/YlLgQXBAGZmZm4fv06Pv30U5uGIyLbyUxPg1td01QDQm6oyGmIiGoeq5umIUOGlPjcyckJdevWRY8ePdC8eXNb5SIiG/v924Xw6aCHXqdA7zGviR2HiKjGsbppevPNN6siBxFVMWc/011zmqyGUPr4ipyGiKjm4eSWRLWAOj8PioALAIDiLC7QS0RUERYfaXJycrrvpJYAIJFIUFxcXOlQRGRb8SvfgrKdGoZiF3QbGiN2HCKiGsnipikuLu6ejyUlJWHZsmUQBMEmoYjItgTPNACA+kYDqCLDRE5DRFQzWdw0DR48uNS2v//+G3PmzMH27dsxcuRIvP322zYNR0S2IQ80NU36DJ6aIyKqqApd03T16lVMmDABbdq0QXFxMZKTk7F27VqEhITYOh8RVdKOz9+B3D0XRqMTmnd+Ruw4REQ1llVNU25uLl5++WU0adIEJ0+exJ49e7B9+3a0bt26qvIRUSUVGVMAAOocFcK79xI5DRFRzWXx6bkFCxbggw8+QGBgIP73v/+VebqOiOyPLMg0oaXuagORkxAR1WwWN02vvPIKFAoFmjRpgrVr12Lt2rVljtu6davNwhFR5ez9ZiXc6mYBAALrPyZyGiKims3ipunZZ58td8oBIrIvWZm/wacuoM71R88nx4gdh4ioRrO4aVqzZk0VxiCiquCqMs0Crs1oKG4QIiIHwBnBiRxU8t54uHlfAQC4SduInIaIqOZj00TkoM4c/RZOTgKKCuvg8QlzxI5DRFTjsWkiclCugZcAAEU8NUdEZBNsmogcUPrZU3DzM13PhMLG4oYhInIQbJqIHNDBbR/D2aUYOq0b+j33uthxiIgcApsmIgfkEmA6Nae5Fgo3Ty+R0xAROQY2TUQOJjf7JhT+FwAAxhtcD5KIyFbYNBE5mMTV70DqWoRivSt6RL0idhwiIofBponIwTjVuQAAUF9vAD9VfXHDEBE5EDZNRA6kSKOBPDANAFCcGSxyGiIix8KmiciB7Fm7EDJFPgwGZ3To/ZzYcYiIHAqbJiIHYpCeBgBosuujcdvOIqchInIsbJqIHIgsyHRqTpfBu+aIiGyNTRORg8g9cxAKz5sQBAmCm/YTOw4RkcNh00TkIBSyiwAA9a1AdOk/QuQ0RESOp0Y1Te+99x4kEgliYmLM2wRBQGxsLFQqFRQKBXr06IGTJ0+WeJ5Wq8WUKVPg5+cHd3d3DBo0CJcvXy4xJicnB9HR0VAqlVAqlYiOjsatW7eq4V0R2YasnmmtOZ6aIyKqGjWmaTp8+DBWrFiBNm3alNi+YMECLF68GMuXL8fhw4cRGBiI3r17Iz8/3zwmJiYGcXFx2LRpE/bt24eCggIMGDAABoPBPCYqKgrJycmIj49HfHw8kpOTER0dXW3vj6gyju3+Hm51MgAAXu4PipyGiMgx1YimqaCgACNHjsTKlSvh7e1t3i4IApYuXYrXXnsNQ4cORevWrbF27Vqo1Wps3LgRAJCbm4tVq1Zh0aJF6NWrF9q3b4/169fjxIkT2L17NwAgNTUV8fHx+PLLLxEREYGIiAisXLkSO3bswOnTp0V5z0TWuPj3DkgkAjT5PogcGyN2HCIih+QidgBLTJo0Cf3790evXr3wzjvvmLenpaUhMzMTkZGR5m0ymQyPPPIIkpKS8MILL+Do0aPQ6/UlxqhUKrRu3RpJSUno06cP9u/fD6VSic6d/71Fu0uXLlAqlUhKSkJYWFiZubRaLbRarfnzvLw8AIBer4der7fZ+79Ty1Y1bVnPnrPZup49Z5OH/AMA0GY2dPj3ymz2UY/Z7KOePWezdT1bZyurdnkkgiAINn91G9q0aRPeffddHD58GHK5HD169EC7du2wdOlSJCUloVu3brhy5QpUKpX5Oc8//zwuXryIXbt2YePGjRg7dmyJ5gYAIiMjERoaii+++ALz58/HmjVrcObMmRJjmjVrhrFjx2LOnDllZouNjcW8efNKbd+4cSPc3Nxs8O7/VZRzHXLvujatSY4hPyUBQRHxMBqdkJk8Al5NHxA7EhFRjaJWqxEVFYXc3Fx4eXndc5xdH2m6dOkSpk2bhoSEBMjl8nuOk0gkJT4XBKHUtv/675iyxpdXZ86cOZgxY4b587y8PAQHByMyMvK+X3RrnPvzIFJTPoAy8Dx8pe+j3cN9K11Tr9cjMTERvXv3hlQqtZta9l7PXrPtVC8HABRkNMWTE1+1q2xVUY/Z7KMes9lHPXvOZut6ts52tztnispj103T0aNHkZWVhY4dO5q3GQwG/Pbbb1i+fLn5eqPMzEwEBQWZx2RlZSEgIAAAEBgYCJ1Oh5ycnBLXQ2VlZaFr167mMdeuXSv1+tevXzfXKYtMJoNMJiu1XSqV2uwftGGrjvjnagakrkW4mLoRD/QcaJO6gG1z2rKWvdezp2w/ffk+PELPAwAKL4fZVbaqrsds9lGP2eyjnj1ns3U9W2e7U9MSdn0heM+ePXHixAkkJyebPzp16oSRI0ciOTkZjRo1QmBgIBITE83P0el02Lt3r7kh6tixI6RSaYkxGRkZSElJMY+JiIhAbm4uDh06ZB5z8OBB5ObmmseIRa5QQHO+NQDAvVEKMtPTRM1D9qVI+gckEqDgegg8W/YQOw4RkUOz6yNNnp6eaN26dYlt7u7u8PX1NW+PiYnB/Pnz0bRpUzRt2hTz58+Hm5sboqKiAABKpRLjx4/HzJkz4evrCx8fH8yaNQvh4eHo1asXAKBFixbo27cvJkyYgC+++AKA6bqoAQMG3PMi8Or0YP/ZOPXPEbjK1Pj9u7cwbMZqsSORHfhj2wZ41PsbAKC71AauTUUORETk4Oz6SJMlXnrpJcTExGDixIno1KkTrly5goSEBHh6eprHLFmyBEOGDMHw4cPRrVs3uLm5Yfv27XB2djaP2bBhA8LDwxEZGYnIyEi0adMG69atE+MtlaJq2AyFaa0AAIrGKSjSaERORPYgMysOTk5GqHP90ff5t8WOQ0Tk8Oz6SFNZfv311xKfSyQSxMbGIjY29p7PkcvlWLZsGZYtW3bPMT4+Pli/fr2NUtpekaEDDIZkKDyzseOT2Xhq1nKxI5GIzhxLgkcD08z3mnOtIR+gEDkREZHjq/FHmmoLz5DmKLjcHAAgDUkROQ2J7a+kT+Ai1aFI7YU+494XOw4RUa3ApqkGkQsPQRAk8PC7hB+Wvyl2HBLJjauX4d7oBABA/U84lD6+IiciIqod2DTVIL2jp6EgKxQAYFAeFjkNieWXTW/AVV4IvU6Ozv1fETsOEVGtwaaphjFmtAUAeASdxe9b1ogbhqpdkUYDRRPTUaaCtNYIadpS5ERERLUHm6YaZuiMhSi8FQgnJyOysreLHYeq2fblM6HwyIbB4IJGYc+KHYeIqFZh01QDac+bph/wCDmFM8eSRE5D1UkWevso06UW6PBYf5HTEBHVLmyaaqDIce+hSO0FF6kOf/7xqdhxqJpsWfIS3H2uwmiUwEvWW+w4RES1DpumGkjp4wv1uX+XVsnNvilyIqoOzgHHAQAFmU3Ra+QkkdMQEdU+bJpqqE49p0Ovl0GmyMeu1S+LHYeqWPxXC+ERYFp30CnnAZHTEBHVTmyaaqjQ1h1QePH20iqNTnJpFQendtoLiURAwY1gDJ7ylthxiIhqJTZNNVig/xAYjU5wU2Zhx6evih2HqsiBnd/Ao95pAIAuPVzkNEREtRebphqs25CRKLgaBgCQ1vtL5DRUVa5c/g7Ozgao8+pi4KQFYschIqq12DTVcFJ1FwCAe90L+OlLrkHmaM79eRDuDe9amFfBhXmJiMTCpqmGG/Di6yi43gASCaBx+UPsOGRjx35bBqlUC63GC33GfiB2HCKiWo1NkwPQXbo92WW90zgUv1XkNGQrOVkZcG9smsyy8FxrLsxLRCQyNk0OYOCkBVDn+cHZ2YBLF74ROw7ZSOK61yCTF0Cvk+OB3rPEjkNEVOuxaXIAcoUCRXcmu2yYgvSzp0RORJVVpNHArUkKAKAwrTUatmgrciIiImLT5CB6Rb8DbZE7pK5FOLiTF4TXdNs/mQWF500YDC5o0PhpseMQERHYNDkMb/8gqM+bjja5NU6BOj9P5ERUGa4N7izM2xydIp8QOQ0REQFsmhxKqwdeRHGxFHL3XOz44iWx41AFxS2dAw/fKxAECTyce4odh4iIbmPT5EBadH4YBektAQDy0BSR01BFSfyPAQDyMxsjcvRUkdMQEdEdbJocjI97HxiNErh7Z2DrEi7kW9MkrF4Kj4BzAADJzY4ipyEioruxaXIwjz7zAgoymwAAnAKSxQ1DVivAL6aFeW/Wx5Cp88WOQ0REd2HT5IAk2R0AAB4B55D49TKR05ClDsVvhUf9VACA/gIX5iUisjdsmhzQkKnzUXCzHiQSAfnFe8SOQxa6dGETnJ0N0OT7YcDkD8WOQ0RE/8GmyUHpLpimH/Con4rkvfEip6HypKUcg3tD08X7mn+4MC8RkT1i0+SgBk5eBE2BN5xdivFPylqx41A5jv68BFJXLbQaT/SKfkfsOEREVAY2TQ5KrlBAc2dplUYpyExPEzkR3UtOVgbc7lqY19s/SORERERUFjZNDqzb4DnQaRVwlanx+3dvix2H7uHXTfMgU+RDr5eh02MzxI5DRET3wKbJgakahaHw9rVNisYnUKTRiJyI/ktfpIOi8b8L84a27iByIiIiuhc2TQ4utFkUDAYXKDyzseOT2WLHof/Qnd8NN68bMBicEdyQC/MSEdkzNk0OrmPPQSi43BwAIA3h0ir2xr3J3wCAgsst8GDfoSKnISKi+2HTVAu4C4+YFn/1u4Qflr8pdhy6bcensfDwvWz6t8GjYschIqJysGmqBfqMm4GCrFAAgEF5WOQ0dIfE9ygAoOBaY0SOjRE3DBERlYtNUy1hzGgLAPAIOot929aJnIZ+/HIBPIL+AQAIWe1FTkNERJZg01RLDJ2xEOpbgXByMiL71k6x49RqRRoN9F4/mhbmvRGMAZM4HQQRUU3ApqkWKTrfCgDgEXIK6sx0kdPUXj98MhUefpdgNDoh71wnseMQEZGF2DTVIpHj3kOR2gsuUh1ctAfEjlMrnfvzIDxbHgQA5J1vC6+WD4mciIiILMWmqRZR+vhCfXtpFY+mf+HUgb0iJ6p9/jy0AK7yQmiLPNDmwZfEjkNERFZg01TLPBA5C1qNF1xlapw797HYcWqV7Z++Bc/QPwEABScj0LAVLwAnIqpJ2DTVMg1btEXhqW4AAK/gk9iyiGudVYcijQZCQCKcnAQUXG+A4bM/FzsSERFZiU1TLTQkZgnyroRBIgFkTX9DZnqa2JEc3g+fTYK791UYDM5QqAeJHYeIiCqATVMtVZjzEPQ6ORQeOfjjx1fEjuPQTuzbDc8WhwAAef+050SWREQ1FJumWsqzQUvknewMAPBqcgw7Pn9H5ESO6+yZZXCVaVCkVqJrn7fEjkNERBXEpqkW6zdhKQpuBMPJyQij/09Q5+eJHcnhbPv4VXg1OAkAUP8dAVWjMJETERFRRdl10/Tee+/hgQcegKenJ/z9/TFkyBCcPn26xBhBEBAbGwuVSgWFQoEePXrg5MmTJcZotVpMmTIFfn5+cHd3x6BBg3D58uUSY3JychAdHQ2lUgmlUono6GjcunWrqt+iqOQKBdyKnoTB4AL3OpnYuWqy2JEcijo/D87Bv0IiEZCf2RjDZn0idiQiIqoEu26a9u7di0mTJuHAgQNITExEcXExIiMjUVhYaB6zYMECLF68GMuXL8fhw4cRGBiI3r17Iz8/3zwmJiYGcXFx2LRpE/bt24eCggIMGDAABoPBPCYqKgrJycmIj49HfHw8kpOTER0dXa3vVwy9n52CvNMdAQBeLQ/h9y1rxA3kQHaumgI35TUYil3g7TxM7DhERFRJLmIHuJ/4+PgSn69evRr+/v44evQoHn74YQiCgKVLl+K1117D0KFDAQBr165FQEAANm7ciBdeeAG5ublYtWoV1q1bh169egEA1q9fj+DgYOzevRt9+vRBamoq4uPjceDAAXTubLrOZ+XKlYiIiMDp06cRFlb2KRWtVgutVmv+PC/PdHpLr9dDr9fb7Otwp5atav63Xo9hi7F//xC4eV3HTd0G6PUj7SabPdWzptax3d/Ds8VhAEDemY4Y/MKYUs8TK1tNr8ds9lGP2eyjnj1ns3U9W2crq3Z5JIIgCDZ/9Sryzz//oGnTpjhx4gRat26N8+fPo3Hjxjh27Bjat/93osDBgwejTp06WLt2LX7++Wf07NkT2dnZ8Pb2No9p27YthgwZgnnz5uGrr77CjBkzSp2Oq1OnDpYsWYKxY8eWmSc2Nhbz5s0rtX3jxo1wc3OzzZuuJvkn9yCws2kR2euHH4Wi+UCxI9VohlsroQxOhabAG+q8KZB51hE7EhER3YNarUZUVBRyc3Ph5eV1z3F2faTpboIgYMaMGejevTtatzYtBZKZmQkACAgIKDE2ICAAFy9eNI9xdXUt0TDdGXPn+ZmZmfD39y/1mv7+/uYxZZkzZw5mzPh3csi8vDwEBwcjMjLyvl90a+n1eiQmJqJ3796QSqVVU+/xx7F9zRUoGydD2eYgVB5Po2WXR+wjm53Us7TWD8tegbJtKgCg6Ex3PDEtym6yOUI9ZrOPesxmH/XsOZut69k6293unCkqT41pmiZPnoy//voL+/btK/WYRCIp8bkgCKW2/dd/x5Q1vrw6MpkMMpms1HapVGrzf9CqqPvfeh26v4FT58dApsjDuXMfo+1Dvewmmz3Vu1+t3OybkDXeB4kEyLvaDE/NWmo32RytHrPZRz1ms4969pzN1vWq4nespfXs+kLwO6ZMmYIffvgBv/zyC+rXr2/eHhgYCACljgZlZWWZjz4FBgZCp9MhJyfnvmOuXbtW6nWvX79e6iiWI2vYoi3UXGKlUhLWT4PC8waK9a7w9xgldhwiIrIhu26aBEHA5MmTsXXrVvz8888IDQ0t8XhoaCgCAwORmJho3qbT6bB371507doVANCxY0dIpdISYzIyMpCSkmIeExERgdzcXBw6dMg85uDBg8jNzTWPqS2emr2cS6xU0B/bNsCr+REAQP7pTug2xPIL6omIyP7ZddM0adIkrF+/Hhs3boSnpycyMzORmZkJjUYDwHRKLSYmBvPnz0dcXBxSUlIwZswYuLm5ISrKdB2JUqnE+PHjMXPmTOzZswfHjx/HqFGjEB4ebr6brkWLFujbty8mTJiAAwcO4MCBA5gwYQIGDBhwzzvnHFlwwAQusVIBWQXr4eKihzrPD71HLRU7DhER2ZhdN02fffYZcnNz0aNHDwQFBZk/vvnmG/OYl156CTExMZg4cSI6deqEK1euICEhAZ6enuYxS5YswZAhQzB8+HB069YNbm5u2L59O5ydnc1jNmzYgPDwcERGRiIyMhJt2rTBunXrqvX92otOkU9wiRUrfbdwGrxUZyAIgP78Q1D6+IodiYiIbMyuLwS3ZDYEiUSC2NhYxMbG3nOMXC7HsmXLsGzZsnuO8fHxwfr16ysS0yENmvgJdm3vBw+/S7eXWJkKN0/b3RHoSG5cvQx5sz8AAPmXW2LojIUiJyIioqpg10eaSDxyhQIKzVAusWKBX+NegsIjB3qdDCH1J4gdh4iIqgibJrqnyNFTucRKOX753xfwanYUAJD/94Po2HOQyImIiKiqsGmi++odtQzqvLpwcdHjpm6D2HHsTi6+g7NzMdS3AtB//MdixyEioirEponuS+njC8PFXhAECTwDzmPzwufFjmQ3vl04EZ4B5yEIEhguPcZrvoiIHBybJirXkGnvIO98WwCAR6v9OLn/Z5ETiS/97Cm4N98PAMi72BpDpvEOQyIiR8emiSzSofsb0Gq84CpT4/TpJWLHEd3hPfMgd8uDTqtAWIupYschIqJqwKaJLFJyiZVT+G5x7V1iJXHdR/BsfBwAkH/qQbSKeEzkREREVB3YNJHF7l5iRd6kdi6xoi/SQe++E87OBhRmqzBo4idiRyIiomrCpomsUtuXWCm+EA+PuukwGp3gdKMP5AqF2JGIiKiasGkiq3SKfAJ5p/5dYiX+y/dFTlR9zv15EF7hpgV589LaYMCLr4uciIiIqhObJrLaoP/7BAU3guHkZIQQEA+tRi12pCp34+plnDr5PmTyAmiL3NHuwZfEjkRERNWMTRNZ7b9LrCDzR7EjValtH72OA4eHQhmcCgAoONUFjdt2FjkVERFVNzZNVCF3L7GibHkY8V9+IHIi28tMT8OWL4bBvdUmKDxvQq+X4caxh/HENF78TURUG7Fpogq7e4kVedO12LrySaQe/E3sWDaxbemrOJI8HHWaHoOTk4D8a6FwK3gJ8qZDxI5GREQiYdNEFab08YVbwWgU3KwPJycjlI2TcSF7IjYvHocijUbseBVy9fxpbFnxFDzCv4XCIxt6nQzZx3ug75DtiBg0Uux4REQkIjZNVCkPj3gOeuNk3DzaC1qNJ1xlGvi024vEn3oibmnNmpJg65KXcSxlJOo0OQ6JREB+ZiN46edi2MxVnFqAiIjgInYAqvmkclc8HrMcGRfO4tDut+DV5Djc6lyDoNyMuK9PIMB7FLoOfEbsmPd09fxp7N/zKpRt/oREIkCvkyPvZASGz/xS7GhERGRHeKSJbCakaUs89X+bIMuehfyrTSGRAF71/0a+bB6+WzYSN65eFjtiKVsXz8Lxk1Go0zj59tGlJqhjeIMNExERlcKmiWzukRETMGRUPHKOD4Im3w8uLnp4tzqAg0cH47uFk8WOBwBIP3sKW74cCq+22yB3vwW9To6bxx7DkKhd6NJ/hNjxiIjIDrFpoirz1MwleOihH5H9VzfodTLI3W/Bu8NP2LapFxJWLxUt15bFM3Hi71Go08h0Oi7/alP4Ob2D4bNWipaJiIjsH5smqlJKH18Mi/ka/q4fIvdCawiCBJ7+aZAEf4ItK4bh3J8Hqy3LhdQ/sXXVE1C2/R5y91zotApkH+uJIaPi0SnyiWrLQURENRObJqoWHR7rj6Hjvofm9CgUZteDk5MRdZocw5krE7B50fgqn6Lg+49ewslzY6EM/QsSiYC8q83g7zofw2atqNLXJSIix8GmiarVwImxiOy/CzePPQatxgOu8kL4tP8VCT/2xraPbL8A7oWTx2G4uRp12v8AuVsudFo33DzWG0+M+gkdew6y+esREZHj4pQDVO3kCgWGz1qJC6l/4uje+fBsfBzu3hkQ6mzC9g1/ojCjGX68dAwGfRGMRi0EQQ9BMEDipAckRsDJAImzAXA2/SlxMgLOxXd9boDEuRhwMsDVPQfKhoUAgLwrYWhQbxL6zeov8leAiIhqIjZNJJqGLdqiYYtvsHvDJ8iXfA/PwHNQhpyCMuSUTV9Hp3VD/sluGD7rc5vWJSKi2oVNE4mu18hJACbhu4XTIGt8EDKPHBgNzhCMLjAaTX8Ktz8XjM6AwfSnYHABDM63/276uPM5DE6A0QUwuEDn0QLDp9nHVAdERFRzsWkiu/HUrI+g1+vx448/4vHHH4dUKq10zTv1iIiIKosXghMRERFZgE0TERERkQXYNBERERFZgE0TERERkQXYNBERERFZgE0TERERkQXYNBERERFZgE0TERERkQXYNBERERFZgE0TERERkQXYNBERERFZgE0TERERkQXYNBERERFZgE0TERERkQVcxA7gSARBAADk5eXZtK5er4darUZeXh6kUqld1bPnbLaux2z2UY/Z7KMes9lHPXvOZut6ts52tzu/t+/8Hr8XNk02lJ+fDwAIDg4WOQkRERFZKz8/H0ql8p6PS4Ty2iqymNFoxNWrV+Hp6QmJRGKzunl5eQgODsalS5fg5eVlV/XsOZut6zGbfdRjNvuox2z2Uc+es9m6nq2z3U0QBOTn50OlUsHJ6d5XLvFIkw05OTmhfv36VVbfy8vLpt8otqxnz9lsXY/Z7KMes9lHPWazj3r2nM3W9Wyd7Y77HWG6gxeCExEREVmATRMRERGRBdg01QAymQxvvvkmZDKZ3dWz52y2rsds9lGP2eyjHrPZRz17zmbrerbOVhG8EJyIiIjIAjzSRERERGQBNk1EREREFmDTRERERGQBNk1EREREFmDTVAN8+umnCA0NhVwuR8eOHfH7779XqM5vv/2GgQMHQqVSQSKRYNu2bRXO9N577+GBBx6Ap6cn/P39MWTIEJw+fbrC9T777DO0adPGPGlZREQEfvrppwrX+29WiUSCmJiYCj0/NjYWEomkxEdgYGCF81y5cgWjRo2Cr68v3Nzc0K5dOxw9erRCtRo2bFgqm0QiwaRJkypUr7i4GK+//jpCQ0OhUCjQqFEjvPXWWzAajRWql5+fj5iYGDRo0AAKhQJdu3bF4cOHLXpued+vgiAgNjYWKpUKCoUCPXr0wMmTJytcb+vWrejTpw/8/PwgkUiQnJxcoVp6vR4vv/wywsPD4e7uDpVKhWeffRZXr16tcLbY2Fg0b94c7u7u8Pb2Rq9evXDw4MEK1brbCy+8AIlEgqVLl1Y425gxY0p9/3Xp0qXC9QAgNTUVgwYNglKphKenJ7p06YL09HSra5W1b0gkEnz44YcVylZQUIDJkyejfv36UCgUaNGiBT777LMK1bp27RrGjBkDlUoFNzc39O3bF2fPni2zliU/b63ZHyypZ83+UF49a/YJS7JZsz/YGpsmO/fNN98gJiYGr732Go4fP46HHnoI/fr1K/MHSHkKCwvRtm1bLF++vNK59u7di0mTJuHAgQNITExEcXExIiMjUVhYWKF69evXx/vvv48jR47gyJEjeOyxxzB48OD7/hK0xOHDh7FixQq0adOmUnVatWqFjIwM88eJEycqVCcnJwfdunWDVCrFTz/9hFOnTmHRokWoU6dOheodPny4RK7ExEQAwLBhwypU74MPPsDnn3+O5cuXIzU1FQsWLMCHH36IZcuWVajec889h8TERKxbtw4nTpxAZGQkevXqhStXrpT73PK+XxcsWIDFixdj+fLlOHz4MAIDA9G7d2/zGpDW1issLES3bt3w/vvvVyqbWq3GsWPHMHfuXBw7dgxbt27FmTNnMGjQoAq/12bNmmH58uU4ceIE9u3bh4YNGyIyMhLXr1+3utYd27Ztw8GDB6FSqSr8Xu/o27dvie/DH3/8scL1zp07h+7du6N58+b49ddf8eeff2Lu3LmQy+VW17o7U0ZGBr766itIJBI8+eSTFco2ffp0xMfHY/369UhNTcX06dMxZcoUfP/991bVEgQBQ4YMwfnz5/H999/j+PHjaNCgAXr16lXmz1BLft5asz9YUs+a/aG8etbsE5Zks2Z/sDmB7NqDDz4ovPjiiyW2NW/eXHjllVcqVReAEBcXV6kad8vKyhIACHv37rVZTW9vb+HLL7+s8PPz8/OFpk2bComJicIjjzwiTJs2rUJ13nzzTaFt27YVznG3l19+WejevbtNapVl2rRpQuPGjQWj0Vih5/fv318YN25ciW1Dhw4VRo0aZXUttVotODs7Czt27CixvW3btsJrr71mVa3/fr8ajUYhMDBQeP/9983bioqKBKVSKXz++edW17tbWlqaAEA4fvx4hbKV5dChQwIA4eLFizapl5ubKwAQdu/eXaFaly9fFurVqyekpKQIDRo0EJYsWVJurnvVGz16tDB48GCLnm9JvREjRlTo+82Sr9vgwYOFxx57rML1WrVqJbz11lsltnXo0EF4/fXXrap1+vRpAYCQkpJi3lZcXCz4+PgIK1euLDfbf3/eVnZ/uN/Pb2v3h/Lq3WHpPmFJLUv3B1vgkSY7ptPpcPToUURGRpbYHhkZiaSkJJFSlS03NxcA4OPjU+laBoMBmzZtQmFhISIiIipcZ9KkSejfvz969epV6Uxnz56FSqVCaGgonn76aZw/f75CdX744Qd06tQJw4YNg7+/P9q3b4+VK1dWOh9g+n5Zv349xo0bV+EFo7t37449e/bgzJkzAIA///wT+/btw+OPP251reLiYhgMhlJHCBQKBfbt21ehfHekpaUhMzOzxL4hk8nwyCOP2N2+AZj2D4lEUuEjinfT6XRYsWIFlEol2rZta/XzjUYjoqOjMXv2bLRq1arSeQDg119/hb+/P5o1a4YJEyYgKyurQnWMRiN27tyJZs2aoU+fPvD390fnzp0rdSnBHdeuXcPOnTsxfvz4Ctfo3r07fvjhB1y5cgWCIOCXX37BmTNn0KdPH6vqaLVaACixbzg7O8PV1dWifeO/P28ruz/Y8ue3pfUs3SfKq1XZ/cFabJrs2I0bN2AwGBAQEFBie0BAADIzM0VKVZogCJgxYwa6d++O1q1bV7jOiRMn4OHhAZlMhhdffBFxcXFo2bJlhWpt2rQJx44dw3vvvVfhPHd07twZX3/9NXbt2oWVK1ciMzMTXbt2xc2bN62udf78eXz22Wdo2rQpdu3ahRdffBFTp07F119/Xemc27Ztw61btzBmzJgK13j55ZfxzDPPoHnz5pBKpWjfvj1iYmLwzDPPWF3L09MTERERePvtt3H16lUYDAasX78eBw8eREZGRoUzAjB//9v7vgEARUVFeOWVVxAVFVWpRUZ37NgBDw8PyOVyLFmyBImJifDz87O6zgcffAAXFxdMnTq1wlnu1q9fP2zYsAE///wzFi1ahMOHD+Oxxx4zNwbWyMrKQkFBAd5//3307dsXCQkJeOKJJzB06FDs3bu3UjnXrl0LT09PDB06tMI1Pv74Y7Rs2RL169eHq6sr+vbti08//RTdu3e3qk7z5s3RoEEDzJkzBzk5OdDpdHj//feRmZlZ7r5R1s/byuwPtvr5bU09S/eJ+9Wy1f5gLZcqfwWqtP8eNRAEocJHEqrC5MmT8ddff1X66EFYWBiSk5Nx69YtbNmyBaNHj8bevXutbpwuXbqEadOmISEhoczrIKzVr18/89/Dw8MRERGBxo0bY+3atZgxY4ZVtYxGIzp16oT58+cDANq3b4+TJ0/is88+w7PPPlupnKtWrUK/fv3KvUblfr755husX78eGzduRKtWrZCcnIyYmBioVCqMHj3a6nrr1q3DuHHjUK9ePTg7O6NDhw6IiorCsWPHKpzxbva+b+j1ejz99NMwGo349NNPK1Xr0UcfRXJyMm7cuIGVK1di+PDhOHjwIPz9/S2ucfToUXz00Uc4duyYzb5OI0aMMP+9devW6NSpExo0aICdO3da3aDcueFg8ODBmD59OgCgXbt2SEpKwueff45HHnmkwjm/+uorjBw5slI/Ez7++GMcOHAAP/zwAxo0aIDffvsNEydORFBQkFVHtKVSKbZs2YLx48fDx8cHzs7O6NWrV4mfNfdyv5+3FdkfbPXz29J61uwT96tli/2hInikyY75+fnB2dm51P8UsrKySv2PQixTpkzBDz/8gF9++QX169evVC1XV1c0adIEnTp1wnvvvYe2bdvio48+srrO0aNHkZWVhY4dO8LFxQUuLi7Yu3cvPv74Y7i4uMBgMFQqp7u7O8LDw+95p8v9BAUFlWoCW7RoUaEL++928eJF7N69G88991yl6syePRuvvPIKnn76aYSHhyM6OhrTp0+v8BG7xo0bY+/evSgoKMClS5dw6NAh6PV6hIaGVirnnbsX7Xnf0Ov1GD58ONLS0pCYmFipo0yA6fuuSZMm6NKlC1atWgUXFxesWrXKqhq///47srKyEBISYt43Ll68iJkzZ6Jhw4aVyndHUFAQGjRoUKH9w8/PDy4uLjbfR37//XecPn26UvuHRqPBq6++isWLF2PgwIFo06YNJk+ejBEjRmDhwoVW1+vYsaP5P4kZGRmIj4/HzZs377tv3OvnbUX3B1v+/LaknjX7RHm1bLE/VASbJjvm6uqKjh07mu+IuiMxMRFdu3YVKZWJIAiYPHkytm7dip9//rnSvwTv9RoVOcTfs2dPnDhxAsnJyeaPTp06YeTIkUhOToazs3Olcmm1WqSmpiIoKMjq53br1q3U7bNnzpxBgwYNKpVp9erV8Pf3R//+/StVR61Ww8mp5I8FZ2fnCk85cIe7uzuCgoKQk5ODXbt2YfDgwZWqFxoaisDAwBL7hk6nw969e0XfN4B/fzmcPXsWu3fvhq+vr81foyL7R3R0NP76668S+4ZKpcLs2bOxa9cum+S6efMmLl26VKH9w9XVFQ888IDN95FVq1ahY8eOlbrmRa/XQ6/X23z/UCqVqFu3Ls6ePYsjR46UuW+U9/PW2v3B1j+/Laln6T5R0WwV/X1hLZ6es3MzZsxAdHQ0OnXqhIiICKxYsQLp6el48cUXra5VUFCAf/75x/x5WloakpOT4ePjg5CQEKtqTZo0CRs3bsT3338PT09P8/9wlEolFAqF1dleffVV9OvXD8HBwcjPz8emTZvw66+/Ij4+3upanp6epc5/u7u7w9fXt0Ln7GfNmoWBAwciJCQEWVlZeOedd5CXl1eh01XTp09H165dMX/+fAwfPhyHDh3CihUrsGLFCqtr3WE0GrF69WqMHj0aLi6V26UHDhyId999FyEhIWjVqhWOHz+OxYsXY9y4cRWqt2vXLgiCgLCwMPzzzz+YPXs2wsLCMHbs2HKfW973a0xMDObPn4+mTZuiadOmmD9/Ptzc3BAVFVWhetnZ2UhPTzfPHXPnF3dgYGCpebnuV0ulUuGpp57CsWPHsGPHDhgMBvP+4ePjA1dXV6uy+fr64t1338WgQYMQFBSEmzdv4tNPP8Xly5fLnFqivPf5319WUqkUgYGBCAsLs/rr5uPjg9jYWDz55JMICgrChQsX8Oqrr8LPzw9PPPGE1fVCQkIwe/ZsjBgxAg8//DAeffRRxMfHY/v27fj111+trgUAeXl52Lx5MxYtWlRmHmvqPfLII5g9ezYUCgUaNGiAvXv34uuvv8bixYutrrV582bUrVsXISEhOHHiBKZNm4YhQ4aUuvEHKP/n7Z156CzdHyz5+W3N/lBeveLiYov3ifJqFRYWWrU/2FyV359HlfbJJ58IDRo0EFxdXYUOHTpU+Lb+X375RQBQ6mP06NFW1yqrDgBh9erVFco2btw483usW7eu0LNnTyEhIaFCtcpSmSkHRowYIQQFBQlSqVRQqVTC0KFDhZMnT1Y4y/bt24XWrVsLMplMaN68ubBixYoK1xIEQdi1a5cAQDh9+nSl6giCIOTl5QnTpk0TQkJCBLlcLjRq1Eh47bXXBK1WW6F633zzjdCoUSPB1dVVCAwMFCZNmiTcunXLoueW9/1qNBqFN998UwgMDBRkMpnw8MMPCydOnKhwvdWrV5f5+JtvvmlVrTu3aJf18csvv1idTaPRCE888YSgUqkEV1dXISgoSBg0aJBw6NChCr3P/ypvyoH71VOr1UJkZKRQt25dQSqVCiEhIcLo0aOF9PT0Cv87CIIgrFq1SmjSpIkgl8uFtm3bCtu2batwrS+++EJQKBQWfd+VVy8jI0MYM2aMoFKpBLlcLoSFhQmLFi0qc4qP8mp99NFHQv369c1ft9dff/2e+5klP2+t2R8sqWfN/lBePWv2ifJqWbs/2JrkdkgiIiIiug9e00RERERkATZNRERERBZg00RERERkATZNRERERBZg00RERERkATZNRERERBZg00RERERkATZNRERERBZg00RERERkATZNRFRrjBkzBkOGDCm1/ddff4VEIsGtW7eqPRMR1RxsmoiIqoFerxc7AhFVEpsmIqL/2LJlC1q1agWZTIaGDRti0aJFJR6XSCTYtm1biW116tTBmjVrAAAXLlyARCLBt99+ix49ekAul2P9+vXVlJ6IqgqbJiKiuxw9ehTDhw/H008/jRMnTiA2NhZz5841N0TWePnllzF16lSkpqaiT58+tg9LRNXKRewARETVaceOHfDw8CixzWAwmP++ePFi9OzZE3PnzgUANGvWDKdOncKHH36IMWPGWPVaMTExGDp0aKUzE5F94JEmIqpVHn30USQnJ5f4+PLLL82Pp6amolu3biWe061bN5w9e7ZEc2WJTp062SQzEdkHHmkiolrF3d0dTZo0KbHt8uXL5r8LggCJRFLicUEQSnwukUhKbSvrQm93d/fKxiUiO8IjTUREd2nZsiX27dtXYltSUhKaNWsGZ2dnAEDdunWRkZFhfvzs2bNQq9XVmpOIqh+PNBER3WXmzJl44IEH8Pbbb2PEiBHYv38/li9fjk8//dQ85rHHHsPy5cvRpUsXGI1GvPzyy5BKpSKmJqLqwCNNRER36dChA7799lts2rQJrVu3xhtvvIG33nqrxEXgixYtQnBwMB5++GFERUVh1qxZcHNzEy80EVULifDfE/NEREREVAqPNBERERFZgE0TERERkQXYNBERERFZgE0TERERkQXYNBERERFZgE0TERERkQXYNBERERFZgE0TERERkQXYNBERERFZgE0TERERkQXYNBERERFZ4P8BzisnlacRQpQAAAAASUVORK5CYII=",
      "text/plain": [
       "<Figure size 640x480 with 1 Axes>"
      ]
     },
     "metadata": {},
     "output_type": "display_data"
    }
   ],
   "source": [
    "hours = [hour for hour, df in all_data.groupby('Hour')] \n",
    "\n",
    "plt.xticks(hours) \n",
    "plt.grid() \n",
    "plt.ylabel('Number of Order')\n",
    "plt.xlabel('Hour')\n",
    "plt.plot(hours, all_data.groupby(['Hour']).count())\n",
    "\n",
    "plt.show()"
   ]
  },
  {
   "attachments": {},
   "cell_type": "markdown",
   "metadata": {},
   "source": [
    "### QUESTION 4: What products are most often sold together?"
   ]
  },
  {
   "cell_type": "code",
   "execution_count": 25,
   "metadata": {},
   "outputs": [
    {
     "name": "stdout",
     "output_type": "stream",
     "text": [
      "('iPhone', 'Lightning Charging Cable') 1005\n",
      "('Google Phone', 'USB-C Charging Cable') 987\n",
      "('iPhone', 'Wired Headphones') 447\n",
      "('Google Phone', 'Wired Headphones') 414\n",
      "('Vareebadd Phone', 'USB-C Charging Cable') 361\n",
      "('iPhone', 'Apple Airpods Headphones') 360\n",
      "('Google Phone', 'Bose SoundSport Headphones') 220\n",
      "('USB-C Charging Cable', 'Wired Headphones') 160\n",
      "('Vareebadd Phone', 'Wired Headphones') 143\n",
      "('Lightning Charging Cable', 'Wired Headphones') 92\n",
      "('Lightning Charging Cable', 'Apple Airpods Headphones') 81\n",
      "('Vareebadd Phone', 'Bose SoundSport Headphones') 80\n",
      "('USB-C Charging Cable', 'Bose SoundSport Headphones') 77\n",
      "('Apple Airpods Headphones', 'Wired Headphones') 69\n",
      "('Lightning Charging Cable', 'USB-C Charging Cable') 58\n",
      "('Lightning Charging Cable', 'AA Batteries (4-pack)') 55\n",
      "('Lightning Charging Cable', 'Lightning Charging Cable') 54\n",
      "('Bose SoundSport Headphones', 'Wired Headphones') 53\n",
      "('AA Batteries (4-pack)', 'Lightning Charging Cable') 51\n",
      "('AAA Batteries (4-pack)', 'USB-C Charging Cable') 50\n"
     ]
    },
    {
     "name": "stderr",
     "output_type": "stream",
     "text": [
      "/var/folders/dn/y4djltt91x1c5czyr65_5v140000gn/T/ipykernel_55826/828032903.py:2: SettingWithCopyWarning: \n",
      "A value is trying to be set on a copy of a slice from a DataFrame.\n",
      "Try using .loc[row_indexer,col_indexer] = value instead\n",
      "\n",
      "See the caveats in the documentation: https://pandas.pydata.org/pandas-docs/stable/user_guide/indexing.html#returning-a-view-versus-a-copy\n",
      "  df['Grouped'] = df.groupby('Order ID')['Product'].transform(lambda x: ','.join(x))\n"
     ]
    }
   ],
   "source": [
    "df = all_data[all_data['Order ID'].duplicated(keep=False)] \n",
    "df['Grouped'] = df.groupby('Order ID')['Product'].transform(lambda x: ','.join(x)) \n",
    "df = df[['Order ID', 'Grouped']].drop_duplicates() \n",
    "\n",
    "count = Counter() \n",
    "for row in df['Grouped']:\n",
    "    row_list = row.split(',')\n",
    "    count.update(Counter(combinations(row_list, 2))) #change the parameter here for the 3,4 items\n",
    "    \n",
    "for key, value in count.most_common(20):\n",
    "    print(key, value)"
   ]
  },
  {
   "attachments": {},
   "cell_type": "markdown",
   "metadata": {},
   "source": [
    "### QUESTION 5: Which product sold the most and why?"
   ]
  },
  {
   "attachments": {},
   "cell_type": "markdown",
   "metadata": {},
   "source": [
    "#### 1. Which product sales the most?"
   ]
  },
  {
   "cell_type": "code",
   "execution_count": 26,
   "metadata": {},
   "outputs": [
    {
     "name": "stderr",
     "output_type": "stream",
     "text": [
      "/var/folders/dn/y4djltt91x1c5czyr65_5v140000gn/T/ipykernel_55826/2009647451.py:1: FutureWarning: The default value of numeric_only in DataFrameGroupBy.sum is deprecated. In a future version, numeric_only will default to False. Either specify numeric_only or select only columns which should be valid for the function.\n",
      "  product_ordered = all_data.groupby('Product').sum()\n"
     ]
    },
    {
     "data": {
      "text/plain": [
       "Text(0.5, 0, 'Products')"
      ]
     },
     "execution_count": 26,
     "metadata": {},
     "output_type": "execute_result"
    },
    {
     "data": {
      "image/png": "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",
      "text/plain": [
       "<Figure size 640x480 with 1 Axes>"
      ]
     },
     "metadata": {},
     "output_type": "display_data"
    }
   ],
   "source": [
    "product_ordered = all_data.groupby('Product').sum()\n",
    "products = [pro for pro, df in all_data.groupby('Product')]\n",
    "quantity_ordered = product_ordered[\"Quantity Ordered\"]\n",
    "plt.bar(products, product_ordered[\"Quantity Ordered\"], color='g') \n",
    "plt.xticks(products, rotation='vertical', size=8) \n",
    "plt.ylabel('Quantity Ordered') \n",
    "plt.xlabel('Products')"
   ]
  },
  {
   "attachments": {},
   "cell_type": "markdown",
   "metadata": {},
   "source": [
    "#### 2. Corelation between number of sales and prices"
   ]
  },
  {
   "cell_type": "code",
   "execution_count": 37,
   "metadata": {},
   "outputs": [
    {
     "name": "stdout",
     "output_type": "stream",
     "text": [
      "Product\n",
      "20in Monitor                   109.99\n",
      "27in 4K Gaming Monitor         389.99\n",
      "27in FHD Monitor               149.99\n",
      "34in Ultrawide Monitor         379.99\n",
      "AA Batteries (4-pack)            3.84\n",
      "AAA Batteries (4-pack)           2.99\n",
      "Apple Airpods Headphones       150.00\n",
      "Bose SoundSport Headphones      99.99\n",
      "Flatscreen TV                  300.00\n",
      "Google Phone                   600.00\n",
      "LG Dryer                       600.00\n",
      "LG Washing Machine             600.00\n",
      "Lightning Charging Cable        14.95\n",
      "Macbook Pro Laptop            1700.00\n",
      "ThinkPad Laptop                999.99\n",
      "USB-C Charging Cable            11.95\n",
      "Vareebadd Phone                400.00\n",
      "Wired Headphones                11.99\n",
      "iPhone                         700.00\n",
      "Name: Price Each, dtype: float64\n"
     ]
    },
    {
     "name": "stderr",
     "output_type": "stream",
     "text": [
      "/var/folders/dn/y4djltt91x1c5czyr65_5v140000gn/T/ipykernel_55826/3868070372.py:1: FutureWarning: The default value of numeric_only in DataFrameGroupBy.mean is deprecated. In a future version, numeric_only will default to False. Either specify numeric_only or select only columns which should be valid for the function.\n",
      "  prices = all_data.groupby('Product').mean()['Price Each']\n",
      "/var/folders/dn/y4djltt91x1c5czyr65_5v140000gn/T/ipykernel_55826/3868070372.py:13: UserWarning: FixedFormatter should only be used together with FixedLocator\n",
      "  ax1.set_xticklabels(products, rotation='vertical', size=8)\n"
     ]
    },
    {
     "data": {
      "text/plain": [
       "[Text(0, 0, '20in Monitor'),\n",
       " Text(1, 0, '27in 4K Gaming Monitor'),\n",
       " Text(2, 0, '27in FHD Monitor'),\n",
       " Text(3, 0, '34in Ultrawide Monitor'),\n",
       " Text(4, 0, 'AA Batteries (4-pack)'),\n",
       " Text(5, 0, 'AAA Batteries (4-pack)'),\n",
       " Text(6, 0, 'Apple Airpods Headphones'),\n",
       " Text(7, 0, 'Bose SoundSport Headphones'),\n",
       " Text(8, 0, 'Flatscreen TV'),\n",
       " Text(9, 0, 'Google Phone'),\n",
       " Text(10, 0, 'LG Dryer'),\n",
       " Text(11, 0, 'LG Washing Machine'),\n",
       " Text(12, 0, 'Lightning Charging Cable'),\n",
       " Text(13, 0, 'Macbook Pro Laptop'),\n",
       " Text(14, 0, 'ThinkPad Laptop'),\n",
       " Text(15, 0, 'USB-C Charging Cable'),\n",
       " Text(16, 0, 'Vareebadd Phone'),\n",
       " Text(17, 0, 'Wired Headphones'),\n",
       " Text(18, 0, 'iPhone')]"
      ]
     },
     "execution_count": 37,
     "metadata": {},
     "output_type": "execute_result"
    },
    {
     "data": {
      "image/png": "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",
      "text/plain": [
       "<Figure size 640x480 with 2 Axes>"
      ]
     },
     "metadata": {},
     "output_type": "display_data"
    }
   ],
   "source": [
    "prices = all_data.groupby('Product').mean()['Price Each']\n",
    "print(prices)\n",
    "\n",
    "fig, ax1 = plt.subplots()\n",
    "\n",
    "ax2 = ax1.twinx()\n",
    "ax1.bar(products, quantity_ordered, color='g')\n",
    "ax2.plot(products, prices, 'b-')\n",
    "\n",
    "ax1.set_xlabel('Product Name')\n",
    "ax1.set_ylabel('Quantity Ordered', color='g')\n",
    "ax2.set_ylabel('Price ($)', color='b')\n",
    "ax1.set_xticklabels(products, rotation='vertical', size=8)"
   ]
  }
 ],
 "metadata": {
  "kernelspec": {
   "display_name": "pandas_env",
   "language": "python",
   "name": "python3"
  },
  "language_info": {
   "codemirror_mode": {
    "name": "ipython",
    "version": 3
   },
   "file_extension": ".py",
   "mimetype": "text/x-python",
   "name": "python",
   "nbconvert_exporter": "python",
   "pygments_lexer": "ipython3",
   "version": "3.10.9"
  },
  "orig_nbformat": 4,
  "vscode": {
   "interpreter": {
    "hash": "d5f5650ffcafff575c59ea4dba9f992ef4facb51f307a10b5673e5add9a90923"
   }
  }
 },
 "nbformat": 4,
 "nbformat_minor": 2
}
